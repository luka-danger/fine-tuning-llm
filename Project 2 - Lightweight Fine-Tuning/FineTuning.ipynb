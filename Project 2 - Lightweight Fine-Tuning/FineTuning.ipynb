{
 "cells": [
  {
   "cell_type": "markdown",
   "metadata": {
    "id": "IQoLZHZqSvOs"
   },
   "source": []
  },
  {
   "cell_type": "markdown",
   "metadata": {
    "id": "CBYXGM9US9qg"
   },
   "source": []
  },
  {
   "cell_type": "markdown",
   "metadata": {
    "id": "jW4SaBkmTEZt"
   },
   "source": [
    "# Lightweight Fine-Tuning Project\n",
    "\n",
    "TODO: In this cell, describe your choices for each of the following\n",
    "\n",
    "* PEFT technique: LoRA - I chose this technique because it is compatible with all base models.\n",
    "* Model: DistilBERT - I chose DistilBERT because it is a lightweight model that runs quickly and does not require changing all parameters.\n",
    "* Evaluation approach: For evaluation, I compared the accuracy of a fine-tuned PEFT trainer to a baseline model.\n",
    "* Fine-tuning dataset: https://huggingface.co/datasets/scholl99/spam_email_v0\n",
    "\n",
    "## Loading and Evaluating a Foundation Model\n",
    "\n",
    "TODO: In the cells below, load your chosen pre-trained Hugging Face model and evaluate its performance prior to fine-tuning. This step includes loading an appropriate tokenizer and dataset."
   ]
  },
  {
   "cell_type": "code",
   "execution_count": 1,
   "metadata": {
    "colab": {
     "base_uri": "https://localhost:8080/"
    },
    "id": "9CYvlxzATKDB",
    "outputId": "b2aaecb1-0167-4899-8923-64ca75fa314a"
   },
   "outputs": [
    {
     "name": "stdout",
     "output_type": "stream",
     "text": [
      "Defaulting to user installation because normal site-packages is not writeable\n",
      "Requirement already satisfied: datasets in /opt/conda/lib/python3.10/site-packages (2.18.0)\n",
      "Collecting datasets\n",
      "  Downloading datasets-2.20.0-py3-none-any.whl (547 kB)\n",
      "\u001b[2K     \u001b[90m━━━━━━━━━━━━━━━━━━━━━━━━━━━━━━━━━━━━━━━\u001b[0m \u001b[32m547.8/547.8 kB\u001b[0m \u001b[31m2.4 MB/s\u001b[0m eta \u001b[36m0:00:00\u001b[0m00:01\u001b[0m00:01\u001b[0m\n",
      "\u001b[?25hRequirement already satisfied: numpy>=1.17 in /home/student/.local/lib/python3.10/site-packages (from datasets) (1.26.4)\n",
      "Requirement already satisfied: xxhash in /opt/conda/lib/python3.10/site-packages (from datasets) (3.4.1)\n",
      "Requirement already satisfied: fsspec[http]<=2024.5.0,>=2023.1.0 in /home/student/.local/lib/python3.10/site-packages (from datasets) (2024.2.0)\n",
      "Requirement already satisfied: pyarrow-hotfix in /opt/conda/lib/python3.10/site-packages (from datasets) (0.6)\n",
      "Collecting requests>=2.32.2\n",
      "  Downloading requests-2.32.3-py3-none-any.whl (64 kB)\n",
      "\u001b[2K     \u001b[90m━━━━━━━━━━━━━━━━━━━━━━━━━━━━━━━━━━━━━━━━\u001b[0m \u001b[32m64.9/64.9 kB\u001b[0m \u001b[31m10.6 MB/s\u001b[0m eta \u001b[36m0:00:00\u001b[0m\n",
      "\u001b[?25hCollecting tqdm>=4.66.3\n",
      "  Downloading tqdm-4.66.4-py3-none-any.whl (78 kB)\n",
      "\u001b[2K     \u001b[90m━━━━━━━━━━━━━━━━━━━━━━━━━━━━━━━━━━━━━━━━\u001b[0m \u001b[32m78.3/78.3 kB\u001b[0m \u001b[31m13.2 MB/s\u001b[0m eta \u001b[36m0:00:00\u001b[0m\n",
      "\u001b[?25hRequirement already satisfied: multiprocess in /opt/conda/lib/python3.10/site-packages (from datasets) (0.70.16)\n",
      "Requirement already satisfied: packaging in /home/student/.local/lib/python3.10/site-packages (from datasets) (24.0)\n",
      "Requirement already satisfied: pyarrow>=15.0.0 in /opt/conda/lib/python3.10/site-packages (from datasets) (15.0.1)\n",
      "Requirement already satisfied: huggingface-hub>=0.21.2 in /home/student/.local/lib/python3.10/site-packages (from datasets) (0.21.4)\n",
      "Requirement already satisfied: pyyaml>=5.1 in /home/student/.local/lib/python3.10/site-packages (from datasets) (6.0.1)\n",
      "Requirement already satisfied: pandas in /home/student/.local/lib/python3.10/site-packages (from datasets) (2.2.1)\n",
      "Requirement already satisfied: filelock in /home/student/.local/lib/python3.10/site-packages (from datasets) (3.13.1)\n",
      "Requirement already satisfied: aiohttp in /opt/conda/lib/python3.10/site-packages (from datasets) (3.9.3)\n",
      "Requirement already satisfied: dill<0.3.9,>=0.3.0 in /opt/conda/lib/python3.10/site-packages (from datasets) (0.3.8)\n",
      "Requirement already satisfied: multidict<7.0,>=4.5 in /opt/conda/lib/python3.10/site-packages (from aiohttp->datasets) (6.0.5)\n",
      "Requirement already satisfied: aiosignal>=1.1.2 in /opt/conda/lib/python3.10/site-packages (from aiohttp->datasets) (1.3.1)\n",
      "Requirement already satisfied: yarl<2.0,>=1.0 in /opt/conda/lib/python3.10/site-packages (from aiohttp->datasets) (1.9.4)\n",
      "Requirement already satisfied: frozenlist>=1.1.1 in /opt/conda/lib/python3.10/site-packages (from aiohttp->datasets) (1.4.1)\n",
      "Requirement already satisfied: attrs>=17.3.0 in /home/student/.local/lib/python3.10/site-packages (from aiohttp->datasets) (23.2.0)\n",
      "Requirement already satisfied: async-timeout<5.0,>=4.0 in /opt/conda/lib/python3.10/site-packages (from aiohttp->datasets) (4.0.3)\n",
      "Requirement already satisfied: typing-extensions>=3.7.4.3 in /home/student/.local/lib/python3.10/site-packages (from huggingface-hub>=0.21.2->datasets) (4.10.0)\n",
      "Requirement already satisfied: urllib3<3,>=1.21.1 in /home/student/.local/lib/python3.10/site-packages (from requests>=2.32.2->datasets) (2.2.1)\n",
      "Requirement already satisfied: certifi>=2017.4.17 in /home/student/.local/lib/python3.10/site-packages (from requests>=2.32.2->datasets) (2024.2.2)\n",
      "Requirement already satisfied: charset-normalizer<4,>=2 in /home/student/.local/lib/python3.10/site-packages (from requests>=2.32.2->datasets) (3.3.2)\n",
      "Requirement already satisfied: idna<4,>=2.5 in /home/student/.local/lib/python3.10/site-packages (from requests>=2.32.2->datasets) (3.6)\n",
      "Requirement already satisfied: tzdata>=2022.7 in /home/student/.local/lib/python3.10/site-packages (from pandas->datasets) (2024.1)\n",
      "Requirement already satisfied: pytz>=2020.1 in /home/student/.local/lib/python3.10/site-packages (from pandas->datasets) (2024.1)\n",
      "Requirement already satisfied: python-dateutil>=2.8.2 in /home/student/.local/lib/python3.10/site-packages (from pandas->datasets) (2.9.0.post0)\n",
      "Requirement already satisfied: six>=1.5 in /home/student/.local/lib/python3.10/site-packages (from python-dateutil>=2.8.2->pandas->datasets) (1.16.0)\n",
      "Installing collected packages: tqdm, requests, datasets\n",
      "  Attempting uninstall: tqdm\n",
      "    Found existing installation: tqdm 4.66.2\n",
      "    Uninstalling tqdm-4.66.2:\n",
      "      Successfully uninstalled tqdm-4.66.2\n",
      "\u001b[33m  WARNING: The script tqdm is installed in '/home/student/.local/bin' which is not on PATH.\n",
      "  Consider adding this directory to PATH or, if you prefer to suppress this warning, use --no-warn-script-location.\u001b[0m\u001b[33m\n",
      "\u001b[0m  Attempting uninstall: requests\n",
      "    Found existing installation: requests 2.31.0\n",
      "    Uninstalling requests-2.31.0:\n",
      "      Successfully uninstalled requests-2.31.0\n",
      "\u001b[33m  WARNING: The script datasets-cli is installed in '/home/student/.local/bin' which is not on PATH.\n",
      "  Consider adding this directory to PATH or, if you prefer to suppress this warning, use --no-warn-script-location.\u001b[0m\u001b[33m\n",
      "\u001b[0mSuccessfully installed datasets-2.20.0 requests-2.32.3 tqdm-4.66.4\n",
      "Defaulting to user installation because normal site-packages is not writeable\n",
      "Requirement already satisfied: peft in /opt/conda/lib/python3.10/site-packages (0.5.0)\n",
      "\u001b[31mERROR: Could not find a version that satisfies the requirement transfomers (from versions: none)\u001b[0m\u001b[31m\n",
      "\u001b[0m\u001b[31mERROR: No matching distribution found for transfomers\u001b[0m\u001b[31m\n",
      "\u001b[0mDefaulting to user installation because normal site-packages is not writeable\n",
      "Requirement already satisfied: transformers[torch] in /opt/conda/lib/python3.10/site-packages (4.36.0)\n",
      "Requirement already satisfied: requests in /home/student/.local/lib/python3.10/site-packages (from transformers[torch]) (2.32.3)\n",
      "Requirement already satisfied: numpy>=1.17 in /home/student/.local/lib/python3.10/site-packages (from transformers[torch]) (1.26.4)\n",
      "Requirement already satisfied: filelock in /home/student/.local/lib/python3.10/site-packages (from transformers[torch]) (3.13.1)\n",
      "Requirement already satisfied: pyyaml>=5.1 in /home/student/.local/lib/python3.10/site-packages (from transformers[torch]) (6.0.1)\n",
      "Requirement already satisfied: safetensors>=0.3.1 in /opt/conda/lib/python3.10/site-packages (from transformers[torch]) (0.4.2)\n",
      "Requirement already satisfied: regex!=2019.12.17 in /opt/conda/lib/python3.10/site-packages (from transformers[torch]) (2023.12.25)\n",
      "Requirement already satisfied: tokenizers<0.19,>=0.14 in /opt/conda/lib/python3.10/site-packages (from transformers[torch]) (0.15.2)\n",
      "Requirement already satisfied: tqdm>=4.27 in /home/student/.local/lib/python3.10/site-packages (from transformers[torch]) (4.66.4)\n",
      "Requirement already satisfied: packaging>=20.0 in /home/student/.local/lib/python3.10/site-packages (from transformers[torch]) (24.0)\n",
      "Requirement already satisfied: huggingface-hub<1.0,>=0.19.3 in /home/student/.local/lib/python3.10/site-packages (from transformers[torch]) (0.21.4)\n",
      "Requirement already satisfied: torch!=1.12.0,>=1.10 in /opt/conda/lib/python3.10/site-packages (from transformers[torch]) (2.0.1)\n",
      "Requirement already satisfied: accelerate>=0.21.0 in /opt/conda/lib/python3.10/site-packages (from transformers[torch]) (0.25.0)\n",
      "Requirement already satisfied: psutil in /opt/conda/lib/python3.10/site-packages (from accelerate>=0.21.0->transformers[torch]) (5.9.0)\n",
      "Requirement already satisfied: fsspec>=2023.5.0 in /home/student/.local/lib/python3.10/site-packages (from huggingface-hub<1.0,>=0.19.3->transformers[torch]) (2024.2.0)\n",
      "Requirement already satisfied: typing-extensions>=3.7.4.3 in /home/student/.local/lib/python3.10/site-packages (from huggingface-hub<1.0,>=0.19.3->transformers[torch]) (4.10.0)\n",
      "Requirement already satisfied: sympy in /opt/conda/lib/python3.10/site-packages (from torch!=1.12.0,>=1.10->transformers[torch]) (1.12)\n",
      "Requirement already satisfied: networkx in /opt/conda/lib/python3.10/site-packages (from torch!=1.12.0,>=1.10->transformers[torch]) (3.1)\n",
      "Requirement already satisfied: jinja2 in /home/student/.local/lib/python3.10/site-packages (from torch!=1.12.0,>=1.10->transformers[torch]) (3.1.3)\n"
     ]
    },
    {
     "name": "stdout",
     "output_type": "stream",
     "text": [
      "Requirement already satisfied: urllib3<3,>=1.21.1 in /home/student/.local/lib/python3.10/site-packages (from requests->transformers[torch]) (2.2.1)\n",
      "Requirement already satisfied: idna<4,>=2.5 in /home/student/.local/lib/python3.10/site-packages (from requests->transformers[torch]) (3.6)\n",
      "Requirement already satisfied: charset-normalizer<4,>=2 in /home/student/.local/lib/python3.10/site-packages (from requests->transformers[torch]) (3.3.2)\n",
      "Requirement already satisfied: certifi>=2017.4.17 in /home/student/.local/lib/python3.10/site-packages (from requests->transformers[torch]) (2024.2.2)\n",
      "Requirement already satisfied: MarkupSafe>=2.0 in /home/student/.local/lib/python3.10/site-packages (from jinja2->torch!=1.12.0,>=1.10->transformers[torch]) (2.1.5)\n",
      "Requirement already satisfied: mpmath>=0.19 in /opt/conda/lib/python3.10/site-packages (from sympy->torch!=1.12.0,>=1.10->transformers[torch]) (1.3.0)\n",
      "Defaulting to user installation because normal site-packages is not writeable\n",
      "Collecting evaluate\n",
      "  Downloading evaluate-0.4.2-py3-none-any.whl (84 kB)\n",
      "\u001b[2K     \u001b[90m━━━━━━━━━━━━━━━━━━━━━━━━━━━━━━━━━━━━━━━\u001b[0m \u001b[32m84.1/84.1 kB\u001b[0m \u001b[31m727.9 kB/s\u001b[0m eta \u001b[36m0:00:00\u001b[0ma \u001b[36m0:00:01\u001b[0m\n",
      "\u001b[?25hRequirement already satisfied: xxhash in /opt/conda/lib/python3.10/site-packages (from evaluate) (3.4.1)\n",
      "Requirement already satisfied: fsspec[http]>=2021.05.0 in /home/student/.local/lib/python3.10/site-packages (from evaluate) (2024.2.0)\n",
      "Requirement already satisfied: numpy>=1.17 in /home/student/.local/lib/python3.10/site-packages (from evaluate) (1.26.4)\n",
      "Requirement already satisfied: packaging in /home/student/.local/lib/python3.10/site-packages (from evaluate) (24.0)\n",
      "Requirement already satisfied: huggingface-hub>=0.7.0 in /home/student/.local/lib/python3.10/site-packages (from evaluate) (0.21.4)\n",
      "Requirement already satisfied: pandas in /home/student/.local/lib/python3.10/site-packages (from evaluate) (2.2.1)\n",
      "Requirement already satisfied: multiprocess in /opt/conda/lib/python3.10/site-packages (from evaluate) (0.70.16)\n",
      "Requirement already satisfied: requests>=2.19.0 in /home/student/.local/lib/python3.10/site-packages (from evaluate) (2.32.3)\n",
      "Requirement already satisfied: tqdm>=4.62.1 in /home/student/.local/lib/python3.10/site-packages (from evaluate) (4.66.4)\n",
      "Requirement already satisfied: dill in /opt/conda/lib/python3.10/site-packages (from evaluate) (0.3.8)\n",
      "Requirement already satisfied: datasets>=2.0.0 in /home/student/.local/lib/python3.10/site-packages (from evaluate) (2.20.0)\n",
      "Requirement already satisfied: filelock in /home/student/.local/lib/python3.10/site-packages (from datasets>=2.0.0->evaluate) (3.13.1)\n",
      "Requirement already satisfied: aiohttp in /opt/conda/lib/python3.10/site-packages (from datasets>=2.0.0->evaluate) (3.9.3)\n",
      "Requirement already satisfied: pyarrow-hotfix in /opt/conda/lib/python3.10/site-packages (from datasets>=2.0.0->evaluate) (0.6)\n",
      "Requirement already satisfied: pyyaml>=5.1 in /home/student/.local/lib/python3.10/site-packages (from datasets>=2.0.0->evaluate) (6.0.1)\n",
      "Requirement already satisfied: pyarrow>=15.0.0 in /opt/conda/lib/python3.10/site-packages (from datasets>=2.0.0->evaluate) (15.0.1)\n",
      "Requirement already satisfied: typing-extensions>=3.7.4.3 in /home/student/.local/lib/python3.10/site-packages (from huggingface-hub>=0.7.0->evaluate) (4.10.0)\n",
      "Requirement already satisfied: charset-normalizer<4,>=2 in /home/student/.local/lib/python3.10/site-packages (from requests>=2.19.0->evaluate) (3.3.2)\n",
      "Requirement already satisfied: urllib3<3,>=1.21.1 in /home/student/.local/lib/python3.10/site-packages (from requests>=2.19.0->evaluate) (2.2.1)\n",
      "Requirement already satisfied: idna<4,>=2.5 in /home/student/.local/lib/python3.10/site-packages (from requests>=2.19.0->evaluate) (3.6)\n",
      "Requirement already satisfied: certifi>=2017.4.17 in /home/student/.local/lib/python3.10/site-packages (from requests>=2.19.0->evaluate) (2024.2.2)\n",
      "Requirement already satisfied: pytz>=2020.1 in /home/student/.local/lib/python3.10/site-packages (from pandas->evaluate) (2024.1)\n",
      "Requirement already satisfied: tzdata>=2022.7 in /home/student/.local/lib/python3.10/site-packages (from pandas->evaluate) (2024.1)\n",
      "Requirement already satisfied: python-dateutil>=2.8.2 in /home/student/.local/lib/python3.10/site-packages (from pandas->evaluate) (2.9.0.post0)\n",
      "Requirement already satisfied: multidict<7.0,>=4.5 in /opt/conda/lib/python3.10/site-packages (from aiohttp->datasets>=2.0.0->evaluate) (6.0.5)\n",
      "Requirement already satisfied: aiosignal>=1.1.2 in /opt/conda/lib/python3.10/site-packages (from aiohttp->datasets>=2.0.0->evaluate) (1.3.1)\n",
      "Requirement already satisfied: yarl<2.0,>=1.0 in /opt/conda/lib/python3.10/site-packages (from aiohttp->datasets>=2.0.0->evaluate) (1.9.4)\n",
      "Requirement already satisfied: frozenlist>=1.1.1 in /opt/conda/lib/python3.10/site-packages (from aiohttp->datasets>=2.0.0->evaluate) (1.4.1)\n",
      "Requirement already satisfied: attrs>=17.3.0 in /home/student/.local/lib/python3.10/site-packages (from aiohttp->datasets>=2.0.0->evaluate) (23.2.0)\n",
      "Requirement already satisfied: async-timeout<5.0,>=4.0 in /opt/conda/lib/python3.10/site-packages (from aiohttp->datasets>=2.0.0->evaluate) (4.0.3)\n",
      "Requirement already satisfied: six>=1.5 in /home/student/.local/lib/python3.10/site-packages (from python-dateutil>=2.8.2->pandas->evaluate) (1.16.0)\n",
      "Installing collected packages: evaluate\n",
      "\u001b[33m  WARNING: The script evaluate-cli is installed in '/home/student/.local/bin' which is not on PATH.\n",
      "  Consider adding this directory to PATH or, if you prefer to suppress this warning, use --no-warn-script-location.\u001b[0m\u001b[33m\n",
      "\u001b[0mSuccessfully installed evaluate-0.4.2\n",
      "Defaulting to user installation because normal site-packages is not writeable\n",
      "Collecting scikit-learn\n",
      "  Downloading scikit_learn-1.5.1-cp310-cp310-manylinux_2_17_x86_64.manylinux2014_x86_64.whl (13.4 MB)\n",
      "\u001b[2K     \u001b[90m━━━━━━━━━━━━━━━━━━━━━━━━━━━━━━━━━━━━━━━━\u001b[0m \u001b[32m13.4/13.4 MB\u001b[0m \u001b[31m65.6 MB/s\u001b[0m eta \u001b[36m0:00:00\u001b[0m00:01\u001b[0m00:01\u001b[0m\n",
      "\u001b[?25hRequirement already satisfied: numpy>=1.19.5 in /home/student/.local/lib/python3.10/site-packages (from scikit-learn) (1.26.4)\n",
      "Requirement already satisfied: scipy>=1.6.0 in /opt/conda/lib/python3.10/site-packages (from scikit-learn) (1.11.2)\n",
      "Collecting threadpoolctl>=3.1.0\n",
      "  Downloading threadpoolctl-3.5.0-py3-none-any.whl (18 kB)\n",
      "Collecting joblib>=1.2.0\n",
      "  Downloading joblib-1.4.2-py3-none-any.whl (301 kB)\n",
      "\u001b[2K     \u001b[90m━━━━━━━━━━━━━━━━━━━━━━━━━━━━━━━━━━━━━━\u001b[0m \u001b[32m301.8/301.8 kB\u001b[0m \u001b[31m38.8 MB/s\u001b[0m eta \u001b[36m0:00:00\u001b[0m\n",
      "\u001b[?25hInstalling collected packages: threadpoolctl, joblib, scikit-learn\n",
      "Successfully installed joblib-1.4.2 scikit-learn-1.5.1 threadpoolctl-3.5.0\n",
      "Defaulting to user installation because normal site-packages is not writeable\n",
      "Requirement already satisfied: accelerate in /opt/conda/lib/python3.10/site-packages (0.25.0)\n",
      "Collecting accelerate\n",
      "  Downloading accelerate-0.32.1-py3-none-any.whl (314 kB)\n",
      "\u001b[2K     \u001b[90m━━━━━━━━━━━━━━━━━━━━━━━━━━━━━━━━━━━━━━━\u001b[0m \u001b[32m314.1/314.1 kB\u001b[0m \u001b[31m1.9 MB/s\u001b[0m eta \u001b[36m0:00:00\u001b[0m00:01\u001b[0m00:01\u001b[0m\n",
      "\u001b[?25hRequirement already satisfied: huggingface-hub in /home/student/.local/lib/python3.10/site-packages (from accelerate) (0.21.4)\n",
      "Requirement already satisfied: pyyaml in /home/student/.local/lib/python3.10/site-packages (from accelerate) (6.0.1)\n",
      "Requirement already satisfied: torch>=1.10.0 in /opt/conda/lib/python3.10/site-packages (from accelerate) (2.0.1)\n",
      "Requirement already satisfied: numpy<2.0.0,>=1.17 in /home/student/.local/lib/python3.10/site-packages (from accelerate) (1.26.4)\n",
      "Requirement already satisfied: packaging>=20.0 in /home/student/.local/lib/python3.10/site-packages (from accelerate) (24.0)\n",
      "Requirement already satisfied: safetensors>=0.3.1 in /opt/conda/lib/python3.10/site-packages (from accelerate) (0.4.2)\n",
      "Requirement already satisfied: psutil in /opt/conda/lib/python3.10/site-packages (from accelerate) (5.9.0)\n",
      "Requirement already satisfied: filelock in /home/student/.local/lib/python3.10/site-packages (from torch>=1.10.0->accelerate) (3.13.1)\n",
      "Requirement already satisfied: typing-extensions in /home/student/.local/lib/python3.10/site-packages (from torch>=1.10.0->accelerate) (4.10.0)\n",
      "Requirement already satisfied: sympy in /opt/conda/lib/python3.10/site-packages (from torch>=1.10.0->accelerate) (1.12)\n",
      "Requirement already satisfied: networkx in /opt/conda/lib/python3.10/site-packages (from torch>=1.10.0->accelerate) (3.1)\n",
      "Requirement already satisfied: jinja2 in /home/student/.local/lib/python3.10/site-packages (from torch>=1.10.0->accelerate) (3.1.3)\n"
     ]
    },
    {
     "name": "stdout",
     "output_type": "stream",
     "text": [
      "Requirement already satisfied: requests in /home/student/.local/lib/python3.10/site-packages (from huggingface-hub->accelerate) (2.32.3)\n",
      "Requirement already satisfied: tqdm>=4.42.1 in /home/student/.local/lib/python3.10/site-packages (from huggingface-hub->accelerate) (4.66.4)\n",
      "Requirement already satisfied: fsspec>=2023.5.0 in /home/student/.local/lib/python3.10/site-packages (from huggingface-hub->accelerate) (2024.2.0)\n",
      "Requirement already satisfied: MarkupSafe>=2.0 in /home/student/.local/lib/python3.10/site-packages (from jinja2->torch>=1.10.0->accelerate) (2.1.5)\n",
      "Requirement already satisfied: idna<4,>=2.5 in /home/student/.local/lib/python3.10/site-packages (from requests->huggingface-hub->accelerate) (3.6)\n",
      "Requirement already satisfied: charset-normalizer<4,>=2 in /home/student/.local/lib/python3.10/site-packages (from requests->huggingface-hub->accelerate) (3.3.2)\n",
      "Requirement already satisfied: urllib3<3,>=1.21.1 in /home/student/.local/lib/python3.10/site-packages (from requests->huggingface-hub->accelerate) (2.2.1)\n",
      "Requirement already satisfied: certifi>=2017.4.17 in /home/student/.local/lib/python3.10/site-packages (from requests->huggingface-hub->accelerate) (2024.2.2)\n",
      "Requirement already satisfied: mpmath>=0.19 in /opt/conda/lib/python3.10/site-packages (from sympy->torch>=1.10.0->accelerate) (1.3.0)\n",
      "Installing collected packages: accelerate\n",
      "\u001b[33m  WARNING: The scripts accelerate, accelerate-config, accelerate-estimate-memory, accelerate-launch and accelerate-merge-weights are installed in '/home/student/.local/bin' which is not on PATH.\n",
      "  Consider adding this directory to PATH or, if you prefer to suppress this warning, use --no-warn-script-location.\u001b[0m\u001b[33m\n",
      "\u001b[0mSuccessfully installed accelerate-0.32.1\n",
      "Defaulting to user installation because normal site-packages is not writeable\n",
      "Requirement already satisfied: torch in /opt/conda/lib/python3.10/site-packages (2.0.1)\n",
      "Requirement already satisfied: filelock in /home/student/.local/lib/python3.10/site-packages (from torch) (3.13.1)\n",
      "Requirement already satisfied: typing-extensions in /home/student/.local/lib/python3.10/site-packages (from torch) (4.10.0)\n",
      "Requirement already satisfied: sympy in /opt/conda/lib/python3.10/site-packages (from torch) (1.12)\n",
      "Requirement already satisfied: networkx in /opt/conda/lib/python3.10/site-packages (from torch) (3.1)\n",
      "Requirement already satisfied: jinja2 in /home/student/.local/lib/python3.10/site-packages (from torch) (3.1.3)\n",
      "Requirement already satisfied: MarkupSafe>=2.0 in /home/student/.local/lib/python3.10/site-packages (from jinja2->torch) (2.1.5)\n",
      "Requirement already satisfied: mpmath>=0.19 in /opt/conda/lib/python3.10/site-packages (from sympy->torch) (1.3.0)\n"
     ]
    }
   ],
   "source": [
    "!pip install -U datasets\n",
    "!pip install peft transfomers\n",
    "!pip install transformers[torch]\n",
    "!pip install evaluate\n",
    "!pip install scikit-learn\n",
    "!pip install accelerate -U\n",
    "!pip install accelerate>=0.21.0\n",
    "!pip install torch\n",
    "\n"
   ]
  },
  {
   "cell_type": "code",
   "execution_count": 2,
   "metadata": {
    "colab": {
     "base_uri": "https://localhost:8080/"
    },
    "id": "55zGOdwiTK5S",
    "outputId": "422a2663-c201-4ca5-9fb3-99cfd04d1b40"
   },
   "outputs": [
    {
     "data": {
      "application/vnd.jupyter.widget-view+json": {
       "model_id": "57b7fcfa34384990b10da2ea7bb36327",
       "version_major": 2,
       "version_minor": 0
      },
      "text/plain": [
       "Downloading readme:   0%|          | 0.00/618 [00:00<?, ?B/s]"
      ]
     },
     "metadata": {},
     "output_type": "display_data"
    },
    {
     "data": {
      "application/vnd.jupyter.widget-view+json": {
       "model_id": "57b9a931da7f4cdab7ef346d6435dcc9",
       "version_major": 2,
       "version_minor": 0
      },
      "text/plain": [
       "Downloading data:   0%|          | 0.00/2.03M [00:00<?, ?B/s]"
      ]
     },
     "metadata": {},
     "output_type": "display_data"
    },
    {
     "data": {
      "application/vnd.jupyter.widget-view+json": {
       "model_id": "037f839f41634dfca5aa0e0cacc0f12b",
       "version_major": 2,
       "version_minor": 0
      },
      "text/plain": [
       "Downloading data:   0%|          | 0.00/496k [00:00<?, ?B/s]"
      ]
     },
     "metadata": {},
     "output_type": "display_data"
    },
    {
     "data": {
      "application/vnd.jupyter.widget-view+json": {
       "model_id": "11d647311afb44e2b93c599d69a99100",
       "version_major": 2,
       "version_minor": 0
      },
      "text/plain": [
       "Downloading data:   0%|          | 0.00/2.47M [00:00<?, ?B/s]"
      ]
     },
     "metadata": {},
     "output_type": "display_data"
    },
    {
     "data": {
      "application/vnd.jupyter.widget-view+json": {
       "model_id": "ae0f3afbfad34d91ac9256a15c71a029",
       "version_major": 2,
       "version_minor": 0
      },
      "text/plain": [
       "Generating train split:   0%|          | 0/2291 [00:00<?, ? examples/s]"
      ]
     },
     "metadata": {},
     "output_type": "display_data"
    },
    {
     "data": {
      "application/vnd.jupyter.widget-view+json": {
       "model_id": "e16b8d3d54c5401a8a5be8fa4d2e3114",
       "version_major": 2,
       "version_minor": 0
      },
      "text/plain": [
       "Generating test split:   0%|          | 0/573 [00:00<?, ? examples/s]"
      ]
     },
     "metadata": {},
     "output_type": "display_data"
    },
    {
     "data": {
      "application/vnd.jupyter.widget-view+json": {
       "model_id": "20105c3f9e084ae19a83d8d7b50253ba",
       "version_major": 2,
       "version_minor": 0
      },
      "text/plain": [
       "Generating rag split:   0%|          | 0/2864 [00:00<?, ? examples/s]"
      ]
     },
     "metadata": {},
     "output_type": "display_data"
    },
    {
     "name": "stdout",
     "output_type": "stream",
     "text": [
      "Train set size: 1718\n",
      "Test set size: 573\n"
     ]
    },
    {
     "data": {
      "application/vnd.jupyter.widget-view+json": {
       "model_id": "2c71ef0c2b4f4c098988f3d42588bab2",
       "version_major": 2,
       "version_minor": 0
      },
      "text/plain": [
       "config.json:   0%|          | 0.00/483 [00:00<?, ?B/s]"
      ]
     },
     "metadata": {},
     "output_type": "display_data"
    },
    {
     "data": {
      "application/vnd.jupyter.widget-view+json": {
       "model_id": "014645c1905343dfad6ace89b7d53370",
       "version_major": 2,
       "version_minor": 0
      },
      "text/plain": [
       "model.safetensors:   0%|          | 0.00/268M [00:00<?, ?B/s]"
      ]
     },
     "metadata": {},
     "output_type": "display_data"
    },
    {
     "name": "stderr",
     "output_type": "stream",
     "text": [
      "Some weights of DistilBertForSequenceClassification were not initialized from the model checkpoint at distilbert-base-uncased and are newly initialized: ['pre_classifier.weight', 'classifier.weight', 'pre_classifier.bias', 'classifier.bias']\n",
      "You should probably TRAIN this model on a down-stream task to be able to use it for predictions and inference.\n"
     ]
    },
    {
     "data": {
      "application/vnd.jupyter.widget-view+json": {
       "model_id": "ba0dc2f2947f4d4a8f23f0f51336d6ca",
       "version_major": 2,
       "version_minor": 0
      },
      "text/plain": [
       "tokenizer_config.json:   0%|          | 0.00/48.0 [00:00<?, ?B/s]"
      ]
     },
     "metadata": {},
     "output_type": "display_data"
    },
    {
     "data": {
      "application/vnd.jupyter.widget-view+json": {
       "model_id": "67a7438c8da645bfbfce56608825cbf2",
       "version_major": 2,
       "version_minor": 0
      },
      "text/plain": [
       "vocab.txt:   0%|          | 0.00/232k [00:00<?, ?B/s]"
      ]
     },
     "metadata": {},
     "output_type": "display_data"
    },
    {
     "data": {
      "application/vnd.jupyter.widget-view+json": {
       "model_id": "374f20a92aee4ad4b2708dbb2fdeb2a5",
       "version_major": 2,
       "version_minor": 0
      },
      "text/plain": [
       "tokenizer.json:   0%|          | 0.00/466k [00:00<?, ?B/s]"
      ]
     },
     "metadata": {},
     "output_type": "display_data"
    },
    {
     "data": {
      "application/vnd.jupyter.widget-view+json": {
       "model_id": "9e387a638f57428fb8525b492b26d2c5",
       "version_major": 2,
       "version_minor": 0
      },
      "text/plain": [
       "Map:   0%|          | 0/1718 [00:00<?, ? examples/s]"
      ]
     },
     "metadata": {},
     "output_type": "display_data"
    },
    {
     "data": {
      "application/vnd.jupyter.widget-view+json": {
       "model_id": "fcf670144b134a00b2ae01f51a5a6c34",
       "version_major": 2,
       "version_minor": 0
      },
      "text/plain": [
       "Map:   0%|          | 0/573 [00:00<?, ? examples/s]"
      ]
     },
     "metadata": {},
     "output_type": "display_data"
    }
   ],
   "source": [
    "# Import Packages and modules\n",
    "from transformers import AutoTokenizer, AutoModelForSequenceClassification\n",
    "\n",
    "# Load Spam Email Dataset\n",
    "# URL: https://huggingface.co/datasets/scholl99/spam_email_v0\n",
    "\n",
    "from datasets import load_dataset\n",
    "\n",
    "## RUBRIC ITEM: Load a Dataset\n",
    "dataset = load_dataset(\"scholl99/spam_email_v0\", split=\"train\")\n",
    "\n",
    "# Split dataset into training and testing datasets\n",
    "# Use seed as a repeatable constant for Shuffle\n",
    "# Use 25% of data for tests\n",
    "# Attribution: https://huggingface.co/docs/datasets/en/process\n",
    "train_test_split = dataset.train_test_split(test_size=0.25, shuffle=True, seed=17)\n",
    "\n",
    "# Gain Access to Split Datasets\n",
    "train_set = train_test_split[\"train\"]\n",
    "test_set = train_test_split[\"test\"]\n",
    "\n",
    "# View Sizes of Training Data\n",
    "print(f\"Train set size: {len(train_set)}\")\n",
    "print(f\"Test set size: {len(test_set)}\")\n",
    "\n",
    "\n",
    "## RUBRIC ITEM: Load Pre-Trained Model\n",
    "# Convert Model Predictions to Strings / Convert Labels to Integers\n",
    "# Attribution: Udacity \"Adapting Foundation Models\"\n",
    "model_name = 'distilbert-base-uncased'\n",
    "model = AutoModelForSequenceClassification.from_pretrained(\n",
    "    model_name,\n",
    "    # Create Real and Fake Labels\n",
    "    num_labels=2,\n",
    "    id2label={0: \"MAIL\", 1: \"SPAM\"},\n",
    "    label2id={\"MAIL\": 0, \"SPAM\": 1},\n",
    ")\n",
    "\n",
    "## RUBRIC ITEM: Pre-Process a Dataset\n",
    "# Load Tokenizer from Pre-trained distilbert model\n",
    "# Attribution: Udacity \"Apply Lightweight Fine-Tuning\"\n",
    "tokenizer = AutoTokenizer.from_pretrained(model_name)\n",
    "\n",
    "def tokenizer_function(examples):\n",
    "    return tokenizer(examples[\"text\"], padding=\"max_length\", truncation = True)\n",
    "\n",
    "# Tokenize Train and Test Datasets\n",
    "# Attribution: Udacity \"Apply Lightweight Fine-Tuning\"\n",
    "#tokenized_train = train_set.map(tokenizer_function, batched=True).remove_columns(\"input_ids\").remove_columns(\"attention_mask\")\n",
    "#tokenized_test = test_set.map(tokenizer_function, batched=True).remove_columns(\"input_ids\").remove_columns(\"attention_mask\")\n",
    "tokenized_train = train_set.map(tokenizer_function, batched=True)\n",
    "tokenized_test = test_set.map(tokenizer_function, batched=True)"
   ]
  },
  {
   "cell_type": "code",
   "execution_count": 4,
   "metadata": {
    "colab": {
     "base_uri": "https://localhost:8080/"
    },
    "id": "0kbeecMrTOgb",
    "outputId": "dc6a6336-7a67-451a-f8f4-bb95f2c61add"
   },
   "outputs": [
    {
     "name": "stdout",
     "output_type": "stream",
     "text": [
      "Model:\n",
      "\n",
      "DistilBertForSequenceClassification(\n",
      "  (distilbert): DistilBertModel(\n",
      "    (embeddings): Embeddings(\n",
      "      (word_embeddings): Embedding(30522, 768, padding_idx=0)\n",
      "      (position_embeddings): Embedding(512, 768)\n",
      "      (LayerNorm): LayerNorm((768,), eps=1e-12, elementwise_affine=True)\n",
      "      (dropout): Dropout(p=0.1, inplace=False)\n",
      "    )\n",
      "    (transformer): Transformer(\n",
      "      (layer): ModuleList(\n",
      "        (0-5): 6 x TransformerBlock(\n",
      "          (attention): MultiHeadSelfAttention(\n",
      "            (dropout): Dropout(p=0.1, inplace=False)\n",
      "            (q_lin): Linear(in_features=768, out_features=768, bias=True)\n",
      "            (k_lin): Linear(in_features=768, out_features=768, bias=True)\n",
      "            (v_lin): Linear(in_features=768, out_features=768, bias=True)\n",
      "            (out_lin): Linear(in_features=768, out_features=768, bias=True)\n",
      "          )\n",
      "          (sa_layer_norm): LayerNorm((768,), eps=1e-12, elementwise_affine=True)\n",
      "          (ffn): FFN(\n",
      "            (dropout): Dropout(p=0.1, inplace=False)\n",
      "            (lin1): Linear(in_features=768, out_features=3072, bias=True)\n",
      "            (lin2): Linear(in_features=3072, out_features=768, bias=True)\n",
      "            (activation): GELUActivation()\n",
      "          )\n",
      "          (output_layer_norm): LayerNorm((768,), eps=1e-12, elementwise_affine=True)\n",
      "        )\n",
      "      )\n",
      "    )\n",
      "  )\n",
      "  (pre_classifier): Linear(in_features=768, out_features=768, bias=True)\n",
      "  (classifier): Linear(in_features=768, out_features=2, bias=True)\n",
      "  (dropout): Dropout(p=0.2, inplace=False)\n",
      ")\n",
      "\n",
      "--------------------------------------------------\n",
      "\n",
      "Dataset({\n",
      "    features: ['text', 'label', 'id'],\n",
      "    num_rows: 2291\n",
      "})\n",
      "\n",
      "--------------------------------------------------\n",
      "\n",
      "Training Dataset:\n",
      "\n",
      "Dataset({\n",
      "    features: ['text', 'label', 'id', 'input_ids', 'attention_mask'],\n",
      "    num_rows: 1718\n",
      "})\n",
      "\n",
      "--------------------------------------------------\n",
      "\n",
      "Testing Dataset:\n",
      "\n",
      "Dataset({\n",
      "    features: ['text', 'label', 'id', 'input_ids', 'attention_mask'],\n",
      "    num_rows: 573\n",
      "})\n"
     ]
    }
   ],
   "source": [
    "# View model\n",
    "print(\"Model:\\n\")\n",
    "print(model)\n",
    "\n",
    "print(\"\\n--------------------------------------------------\\n\")\n",
    "\n",
    "# View Dataset\n",
    "print(dataset)\n",
    "\n",
    "print(\"\\n--------------------------------------------------\\n\")\n",
    "\n",
    "# View Training Datasets\n",
    "print(\"Training Dataset:\\n\")\n",
    "print(tokenized_train)\n",
    "\n",
    "print(\"\\n--------------------------------------------------\\n\")\n",
    "\n",
    "print(\"Testing Dataset:\\n\")\n",
    "# View Test Datasets\n",
    "print(tokenized_test)"
   ]
  },
  {
   "cell_type": "code",
   "execution_count": 5,
   "metadata": {
    "colab": {
     "base_uri": "https://localhost:8080/"
    },
    "id": "ka82fCnSTQ6A",
    "outputId": "20d8a8fd-e910-4fa0-cae0-ea02e377b004"
   },
   "outputs": [
    {
     "name": "stdout",
     "output_type": "stream",
     "text": [
      "First 150 emails: \n",
      "\n",
      "Text: Subject: request submitted : access request for  praveen . mellacheruvu @ enron . com  you have received this email because you are listed as an alter, Label: 0\n",
      "Text: Subject: website : data _ research _ pub  please approve or reject this request .  thank you ,  information risk management ( et )  - - - - - - - - - , Label: 0\n",
      "Text: Subject: alliance info alert  dear generation / power marketing executive :  the following is this week ' s alliance express newsletter , and a specia, Label: 0\n",
      "Text: Subject: speech by chairman pat wood of puct - ctaee meeting - nov . 29 , 2000  dear colleague :  we are honored to have chairman pat wood of the publ, Label: 0\n",
      "Text: Subject: re : greetings from garp  frank ,  looks good .  vince  enron north america corp .  from : frank hayden @ enron 12 / 12 / 2000 11 : 31 am  to, Label: 0\n",
      "Text: Subject: returned mail : see transcript for details  the original message was received at tue , 19 jul 2005 12 : 57 : 50 + 0200  from [ 218 . 159 . 22, Label: 1\n",
      "Text: Subject: esai gas / power alert on impact of gas prices on generation  investment  attached is an essay of the impact of gas prices on generation inve, Label: 0\n",
      "Text: Subject: welcome to - energy news live  dear vincent kaminski ,  welcome to energy news live - http : / / www . energynewslive . com !  you are receiv, Label: 0\n",
      "Text: Subject: re : visit to enron  nick ,  the airport is about 30 minutes by cab from the office ( 1400 smith ) .  the best hotel is either hyatt regency , Label: 0\n",
      "Text: Subject: invites for australian energy risk 2000 july 17 - 18  dear lucie ,  when i agreed to speak at the above conference , it was agreed that enron, Label: 0\n",
      "Text: Subject: re : power question  steve ,  elena chilkina can give you historical data .  historical fwd curves can be obtained from paulo  or alex , amon, Label: 0\n",
      "Text: Subject: adv : your road to financial freedom begins here !  are you overwhelmed with debt and high  interest rates ? are you receiving annoying calls, Label: 1\n",
      "Text: Subject: treasury memo  kevin ,  the memo looks good . one suggestion i have is to emphasize what we can  deliver by end of january since that was the, Label: 0\n",
      "Text: Subject: re : lsu seminar visit  dear vince ,  i just left voice mail for you . we are interested in obtaining copies of  the papers you ' ll be using, Label: 0\n",
      "Text: Subject: re : your mail  dear vince ,  the following message is from co - pi , prof . baichun xiao in long island  university .  in this message , he , Label: 0\n",
      "Text: Subject: re : stinson vacation in feb .  stinson ,  n o problem .  vince  stinson gibner  01 / 07 / 2000 10 : 51 am  to : vince j kaminski / hou / ect, Label: 0\n",
      "Text: Subject: missing prc information  vince , the following information is missing from your employee profile which  will be used at the md prc meeting on, Label: 0\n",
      "Text: Subject: update on project x  gentlemen ,  john norden will be in sydney on monday morning to evaluate the it process .  he will coordinate with stins, Label: 0\n",
      "Text: Subject: high - quality affordable logos  corporate image can say a lot of things about your  company . contemporary rhythm of life is too dynamic . s, Label: 1\n",
      "Text: Subject: re : monday aug . 7  stinson ,  no problem .  vince  stinson gibner  08 / 02 / 2000 12 : 51 pm  to : vince j kaminski / hou / ect @ ect  cc :, Label: 0\n",
      "Text: Subject: course outlines  jeff ,  i am sending you a draft of the outline of the course on energy derivatives .  i would appreciate your comments befo, Label: 0\n",
      "Text: Subject: benachrichtung  zum  ( fehlgeschlagen ) ? =  dies ist eine automatisch erstellte benachrichtigung + apw - ber den zustellstatus .  + anw - be, Label: 1\n",
      "Text: Subject: re : background information  tom ,  electronic version is ok .  vince  \" piazze , thomas \" on 11 / 07 / 2000 10 : 25 : 45 am  to : \" ' vince , Label: 0\n",
      "Text: Subject: enron storage analysis model audit  professor darrel duffie  450 miramonte avenue  palo alto , ca 94306  may 8 , 2000  dear professor duffie , Label: 0\n",
      "Text: Subject: the national forum on corporate finance  andy ,  i am sending you a draft oof a proposal regarding national forum for top  finance practition, Label: 0\n",
      "Text: Subject: just to her . . .  you are not allowed to post to this mailing list , and your message has  been automatically rejected . if you think that y, Label: 1\n",
      "Text: Subject: contract summaries  attached are the contract summaries for elba island term sheet , the heogh  galleon and exmar charter parties and the opt, Label: 0\n",
      "Text: Subject: claim your free home depot gift card - a $ 1000 value .  claim your home depot gift card - a $ 1000 value . were sure you can find a use for , Label: 1\n",
      "Text: Subject: re : corn subsidy govt program analysis  vasant ,  thanks . let ' s contact wharton next week .  vince  from : vasant shanbhogue / enron @ en, Label: 0\n",
      "Text: Subject: re : recruiting  vince ,  thank you so much for forwarding this information to me as well as making  some initial contacts on campus ! i was , Label: 0\n",
      "Text: Subject: offsite meeting - - great divide lodge - - invited guest list  gentlemen :  attached please find the \" proposed \" final invitees list for the, Label: 0\n",
      "Text: Subject: refined products line - - north american markets - cera alert : decem  ber 15 , 2000  cera alert : december 15 , 2000  title : refined produc, Label: 0\n",
      "Text: Subject: re : green card  sevil ,  i believe you and margret daffin have spoken about the next steps for your  green card . you will need to start wor, Label: 0\n",
      "Text: Subject: localized software , all languages available .  hello , we would like to offer localized software versions ( qerman , french , spanish , uk ,, Label: 1\n",
      "Text: Subject: * * message you sent blocked by our bulk email filter * *  your message to : ponddr @ nalu . net  was blocked by our spam firewall . the emai, Label: 1\n",
      "Text: Subject: rosters ( rice university )  i have enclosed your latest rosters for mgmt 656 : energy derivatives . the  word document is your official rost, Label: 0\n",
      "Text: Subject: re : term project :  dear vince ,  i was wondering if you were able to open the attachment with my resume this  time . rumor has it that you , Label: 0\n",
      "Text: Subject: data for moody ' s riskcalc  craig and kim ,  as you know , i have obtained a 60 day trial subscription to moody ' s riskcalc .  you wanted t, Label: 0\n",
      "Text: Subject: weather deriv . presentation  vince ,  here is the info we discussed . if you need anything else , let me know  joe  x 33914  our london grou, Label: 0\n",
      "Text: Subject: request submitted : access request for rakesh . bharati @ enron . com  you have received this email because you are listed as an alternate da, Label: 0\n",
      "Text: Subject: visit with vince kaminski on may 4 th  carol :  for your information and susan ' s , christie patrick will not be available on the  4 th of m, Label: 0\n",
      "Text: Subject: reuters : ecommerce  mr kaminski ,  the 4 reports that you ordered : european gas market , european electricity  market , uk gas market and u, Label: 0\n",
      "Text: Subject: no job  you have probably heard that our group is being broken up . some people were  put in other groups but i was not fortunate enough to b, Label: 0\n",
      "Text: Subject: your application is below . expires july 27 .  your application for the grant is below . remember , because of the type of grant this is , yo, Label: 1\n",
      "Text: Subject: chapter  hi vince ,  ?  how are things with you ? well i hope . do you have the latest version of your  part of chapter 3 ? ( i think grant h, Label: 0\n",
      "Text: Subject: meeting confirmation / discussion points  fyi .  - - - - - - - - - - - - - - - - - - - - - - forwarded by pinnamaneni krishnarao / hou / ect , Label: 0\n",
      "Text: Subject: save your money buy getting this thing here  you have not tried cialls yet ?  than you cannot even imagine what it is like to be a real man i, Label: 1\n",
      "Text: Subject: re : texas finance festival ( urgent request )  peggy ,  friday ( lunch , supper ) , sat ( breakfast , lunch ) . one person .  vince kaminski, Label: 0\n",
      "Text: Subject: imperial capital - thursday schedule  the following is the schedule for thursday ' s meeting with imperial capital .  currently all meetings , Label: 0\n",
      "Text: Subject: interviews  hi vince ,  thanks for taking the time off to meet with me last week . i did enjoy  meeting you and your co - workers in the rese, Label: 0\n",
      "Text: Subject: thanks  hi keith !  thanks so much for your additional thoughts , which i will definitely pass on  to our business units .  as for your nephe, Label: 0\n",
      "Text: Subject: reach 100 , 000 brokers charset = windows - 1252 \" >  dear industry professional ,  the importance of the  internet and the opportunities it , Label: 1\n",
      "Text: Subject: eol trade size discrepancies  vince -  i have discovered the two sources of discrepancy in the \" transaction dollars \"  on eol , between my n, Label: 0\n",
      "Text: Subject: christmas break  fyi  - - - - - - - - - - - - - - - - - - - - - - forwarded by shirley crenshaw / hou / ect on 12 / 14 / 99  07 : 51 am - - -, Label: 0\n",
      "Text: Subject: http : / / www . efi . ie  hi  i visited http : / / www . efi . ie , and  noticed that you ' re not listed on some search engines ! i think w, Label: 1\n",
      "Text: Subject: largest collection of porn mo \\ / ies ever - x 89  cum witness the most extreme sexual achievements ever to be found on the net ! we have ton, Label: 1\n",
      "Text: Subject: sharad ' s houston visit  sharad  as expected we didn ' t get time to discuss in detail what to do in houston .  we have discussed the subjec, Label: 0\n",
      "Text: Subject: re : publishing my real options work  steve ,  we can accelerate the process . we need some internal approvals .  please , talk to richard le, Label: 0\n",
      "Text: Subject: energy book  fiona ,  ?  thanks for your message and the update . ? we haven ' t made any changes . ? i was  referring to the enron changes ,, Label: 0\n",
      "Text: Subject: low price software  http : / / neonate . setupmefree . com / ? a = 3107, Label: 1\n",
      "Text: Subject: re : resume from a neural networks zealot  celeste ,  we can use this guy as a help for enron broad band svc ' s .  we are getting many proje, Label: 0\n",
      "Text: Subject: re : lng may 19 decision  john ,  sorry for the confusion .  this is a second tanker on which very few details  are available . the lng group, Label: 0\n",
      "Text: Subject: professionally - designed logos and identities  thinking of breathing new life into your business ?  start from revamping its front - endlogo, Label: 1\n",
      "Text: Subject: re : weather course  joe ,  this is the most recent offer from lacima  ( weather derivatives course ) . what do you think ?  vince  - - - - -, Label: 0\n",
      "Text: Subject: energy book  hi grant ,  hope all is well with you . i trust you got my message via the voicemail  that ileft with vince late friday afternoo, Label: 0\n",
      "Text: Subject: top - level logo and business identity  corporate image can say a lot of things about your  company . contemporary rhythm of life is too dyna, Label: 1\n",
      "Text: Subject: mid - year 2000 performance feedback  note : you will receive this message each time you are selected as a reviewer .  you have been selected, Label: 0\n",
      "Text: Subject: new computers  hi lyn :  hope things are going better for you !  the research group is getting one new employee beginning february  21 , 2000, Label: 0\n",
      "Text: Subject: request submitted : access request for mark . breese @ enron . com  you have received this email because you are listed as an alternate data , Label: 0\n",
      "Text: Subject: year end 2000 performance feedback  note : you will receive this message each time you are selected as a reviewer .  you have been selected t, Label: 0\n",
      "Text: Subject: rollover of my vacation days to 2001  vince & shirley :  here are the details about my remaining 2000 vacation and their use :  vacation curr, Label: 0\n",
      "Text: Subject: cash : $ 48463  dear homeowner , you have been pre - approved for a $ 200 , 000 loan at a low fixed rate . this offer is being extended to yo, Label: 1\n",
      "Text: Subject: re : change of plans  hello you two ,  i am so sorry catherine for not writing recently . i have just been vv busybeing a working mother and , Label: 1\n",
      "Text: Subject: save your money buy getting this thing here  you have not tried cialls yet ?  than you cannot even imagine what it is like to be a real man i, Label: 1\n",
      "Text: Subject: re : new risk management book  vince ,  thanks so much ,  pedro fernando  vince j kaminski @ ect  11 / 21 / 2000 01 : 17 pm  to : shirley cre, Label: 0\n",
      "Text: Subject: pro opticus  shirley ,  please , send this memo to the entire group and ask if this demo was given  to anybody in our group .  vince  - - - -, Label: 0\n",
      "Text: Subject: re : congratulations  vince ,  congratulations to you too ! in my mind you ' ve always been an md , they ' re  just officializing it now .  t, Label: 0\n",
      "Text: Subject: get the best price on your next car !  exclusive  offer from 24 x 7 emessaging  search for a pre - owned vehicle  buy a used car online  you , Label: 1\n",
      "Text: Subject: i think , yes .  the things we sell are known over the world !  our goods for guys are in requisition ! , Label: 1\n",
      "Text: Subject: enron announcement  car rental options for enron travelers  rental car contracts for 2001 have been awarded to :  national car rental ( prima, Label: 0\n",
      "Text: Subject: confirmation of your order  this is an automatic confirmation of the order you have placed using it  central .  request number : ecth - 4 s 5, Label: 0\n",
      "Text: Subject: dram trading authority  here is the latest trading request :  specifically it requires the following to get it over the line :  vince , your , Label: 0\n",
      "Text: Subject: my resume  molly ,  we would like to bring this student as a summer intern ( the last one ,  we are running out of space ) .  i shall send yo, Label: 0\n",
      "Text: Subject: re : risk book translation  dear professor kaminski ,  thanks for spending your very valuable time to take trouble to arrange our  contact wi, Label: 0\n",
      "Text: Subject: calculating bid - ask prices  this is about enron movie trading business where we are a market maker for  trading future of a movie ' s gross, Label: 0\n",
      "Text: Subject: enside  good morning !  here is the latest draft of your article for the enside newsletter . i have  forwarded it to the design team and expe, Label: 0\n",
      "Text: Subject: draft from the editor with questions . i ' ll call  vince ,  attached is the editor ' s latest edits on my draft . there are a couple of  thi, Label: 0\n",
      "Text: Subject: re : hello  molly ,  kim watson would like us to bring jacob for another interview .  we can do it later this week .  vince  vince  - - - - -, Label: 0\n",
      "Text: Subject: your visit to sydney in july  dear vince ,  hi ! , it ' s only two weeks until the aust energy risk ( 17 - 19 july ) seminar in  sydney .  is, Label: 0\n",
      "Text: Subject: re : a / a program question  gwyn :  just because the a / a program does not have a contract does not mean  that enron does not . do you have, Label: 0\n",
      "Text: Subject: failure notice  hi . this is the qmail - send program at mx 3 . seanet . ro .  i ' m afraid i wasn ' t able to deliver your message to the fo, Label: 1\n",
      "Text: Subject: final project deadline is april 30  dear energy derivatives students ,  the deadline for the final project has been set for april 30 , 2001 ., Label: 0\n",
      "Text: Subject: viagra - proven step to start something all over again .  looking for a specific medication ? let us know what you need !  there is an applau, Label: 1\n",
      "Text: Subject: re : invitation to speak at infocast ' s managing summer price  volatilit y conference in houston  thanks , vince - - it sounds like a good o, Label: 0\n",
      "Text: Subject: presentation on metals  - - - - - - - - - - - - - - - - - - - - - - forwarded by leann walton / na / enron on 10 / 26 / 2000 10 : 52  am - - , Label: 0\n",
      "Text: Subject: message from charles shen at williams  dear vince :  how are you ? thanks for coordinating an offer for me .  as i told stinson early this we, Label: 0\n",
      "Text: Subject: re : invitation to 2001 energy finance conference - the university  of texas at austin  steve ,  no problem . it was a very short meeting ( m, Label: 0\n",
      "Text: Subject: re [ 4 ] :  terra investigate blackouts i wonder what if . . . paint shopthere ' s also another one tupac sharuk, Label: 1\n",
      "Text: Subject: hi  how to save on your fashion medlcatlons over 70 % .  shalloon pharmzmail shop - successfull and proven way to save curvet your plumose mo, Label: 1\n",
      "Text: Subject: a \" bit \" of history on the fourth of july  hello everyone :  vince asked me to send this to you . it definately is eye opening and heart  wr, Label: 0\n",
      "Text: Subject: re : weatherdelta demonstration scheduling  hi all ,  the scheduled wednesday ( nov . 8 ) presentation has to be cancelled . even  though in , Label: 0\n",
      "Text: Subject: stock 2 watch  pop 3 media corp ( popt )  a company which has positioned itself in the gap between the major  media conglomerates and the uni, Label: 1\n",
      "Text: Subject: fw : aram g . sogomonian  per my voice mail , attached is the resume for aram sogomonian . please  schedule a telephone interview with john l, Label: 0\n",
      "Text: Subject: bettter control  hello , welcome to phar christy monline bobcat shop  - one of the leading o tarrock niine pharmaceutical shops  intoxicate v, Label: 1\n",
      "Text: Subject: learn to play texas hold ' em and other poker classics on the most popular free site .  - earn $ 100 bonus from partypoker . visit here .  qd, Label: 1\n",
      "Text: Subject: re : visit to houston  allan ,  i shall be glad to meet you . i am planning to attend the energy symposium  and we can meet on the location ., Label: 0\n",
      "Text: Subject: re : conversation w / andersen  vince : forwarding this to you as an fyi - do you suppose you should sit in  since you ' ve already met victo, Label: 0\n",
      "Text: Subject: re : credit . com cv ' s  could we talk on monday pls . obtain the feedback of your team .  thanks for the assistance  vince j kaminski  08 /, Label: 0\n",
      "Text: Subject: \" henwood ' s rationalizing midwest power markets for the future \"  workshops  henwood announces a major new release and functional realignme, Label: 0\n",
      "Text: Subject: re : rtp conference  hill ,  yes , i think it can be done . i am in london  right now and i shall come back next week thursday .  please , gi, Label: 0\n",
      "Text: Subject: class request : xl 97 - 564 excel 97 , introduction , william smith  your approval is required for william smith to attend the following clas, Label: 0\n",
      "Text: Subject: no pills , no pumps - its the patch  penis growth extreme  http : / / www . xunepa . com / ss /  death is not the worst than can happen to me, Label: 1\n",
      "Text: Subject: market maker simulation v . 2  stinson and vince ,  i finished the second version of the model which deals with open to close  trading .  the, Label: 0\n",
      "Text: Subject: interview schedule for ben zhang  attached please find the interview packet for the above - referenced person .  the interview will happen th, Label: 0\n",
      "Text: Subject: request submitted : access request for sandeep . kohli @ enron . com  you have received this email because the requester specified you as the, Label: 0\n",
      "Text: Subject: brownsville peaker data  hey guys ,  further to our meeting , here ( courtesy of john t ) are the addresses to view  the peaker data for our , Label: 0\n",
      "Text: Subject: msl 50 confirmation  thank you for your involvement with the 2000 isuzu msl 50 bike tour , a texas  cycling tradition . check the bottom of t, Label: 0\n",
      "Text: Subject: very uuseful  attache how to save on your medlcations over 70 % .  pharmsho fructiferous p - successfull and proven way unquestionable to sav, Label: 1\n",
      "Text: Subject: let the tba doctor save your tough cases  sex  age  face amt .  condition  other co ' s  tba  female  87  $ 2 , 000 , 000  high blood pressur, Label: 1\n",
      "Text: Subject: re : fw : fw : visit to enron by professor nalin kulatilaka of boston  university  hi nalin ,  martin lin asked if you have a paper \" or some, Label: 0\n",
      "Text: Subject: hello from vince kaminski at enron  shmuel ,  i hope you remember me . i visited you together with aram sogomonian , a  good friend of mine ,, Label: 0\n",
      "Text: Subject: re : fw : opportunities  vince  i went through my secretary ' s things and found the following number :  713 . 853 . 3848  is this the number, Label: 0\n",
      "Text: Subject: calculating bid - ask prices  this is about enron movie trading business where we are a market maker for trading future of a movie ' s gross , Label: 0\n",
      "Text: Subject: re : congratulations  thank you very much for the note . i am very happy that you have been  promoted to managing director . it was long over, Label: 0\n",
      "Text: Subject: re : var and credit meeting on wednesday , april 11 at 11 : 30 am  everybody ,  this week our regular meeting will be devoted primarily to 2 , Label: 0\n",
      "Text: Subject: i know your company !  lt is really hard to recollect a company : the  market is full of suqgestions and the information isoverwheiming ; but, Label: 1\n",
      "Text: Subject: enron ' s 2001 goals  our vision to become the world ' s leading company positions our company for  great success this year and beyond . our , Label: 0\n",
      "Text: Subject: fca offrr  hello , welcome to strengthen pharmonline s preternatural hop  - one of the leading on wheatstone iine pharmaceutical shops  seste, Label: 1\n",
      "Text: Subject: re : a resume - canadian trader  john ,  he is currently a student at carnegie mellon , one - year computational finance  program . i got his, Label: 0\n",
      "Text: Subject: re : probation period - matthew williams  hi karen  i ' m happy for matt to be made permanent - all relevant feedback is contained  in his pr, Label: 0\n",
      "Text: Subject: anshuman  neil ,  i would like to apologize for the confusion regarding anshuman .  we have floated a number of possible scenarios regarding , Label: 0\n",
      "Text: Subject: agenda for transmission roundtable on wednesday , january 24 , 2001  sorry everyone , i guess i am having my monday morning today . here are , Label: 0\n",
      "Text: Subject: re : kwi user group  david ,  i regret to inform you i am unable to attend the conference due to previous  commitments .  would you consider , Label: 0\n",
      "Text: Subject: prc review : list of key projects  hi dale & vince ,  for your benefit i have compiled a shortlist of the main projects worked on  over the p, Label: 0\n",
      "Text: Subject: clear benefits of creative design  lt is really hard to recollect a company : the  market is full of suqgestions and the information isoverwh, Label: 1\n",
      "Text: Subject: hello vince  vince ,  can i call you tuesday morning about our writing project ? i have to be in  austin for a dental appointment on monday a, Label: 0\n",
      "Text: Subject: re : conference call on friday , march 17 th  shirley ,  11 : 00 am ca - time is fine ( 1 : 00 pm tx - time ) .  i ' ll be at 650 725 - 5525 , Label: 0\n",
      "Text: Subject: option p & l  gentleman :  the erms system , as you know , has an excellent capability for  decomposing option p & l into the following compo, Label: 0\n",
      "Text: Subject: re : ( no subject )  jana ,  next week would work for me .  i am flying to san antonio from florida . i shall be back on sunday .  what about, Label: 0\n",
      "Text: Subject: re : message from ken rice  vince :  thanks for returning this call . i guess it helps if i provide the contact  information !  tom limperis , Label: 0\n",
      "Text: Subject: riskcenter . com / flatiron group alliance announce garp risk review  magazine  for immediate release  contact : tom groenfeld  the flatiron , Label: 0\n",
      "Text: Subject: re : ganapathy ramesh  rick ,  the it person tanya would like to have dedicated to the mg effort is  ganapathy ramesh .  vince  - - - - - - -, Label: 0\n",
      "Text: Subject: http : / / www . foulston . com  hello ,  i have visited www . foulston . com and noticed that your website is not listed on some search engi, Label: 1\n",
      "Text: Subject: claim your free $ 1000 home depot gift card .  claim your home depot gift card - a $ 1000 value . were sure you can find a use for this gift , Label: 1\n",
      "Text: Subject: re : d - g energy  great . i still haven ' t heard back from them regarding our escrow agreement  butn hope to soon . if not , i will call . , Label: 0\n",
      "Text: Subject: re : petrochemical forward curves  vince ,  you will find the most recent email exchanges below . per our discussion , i did sit down with ch, Label: 0\n",
      "Text: Subject: you don _ t know how to attract customers to your website ?  submitting your website in search engines may increase  your online sales dramat, Label: 1\n",
      "Text: Subject: request submitted : access request for leann . walton @ enron . com  you have received this email because you are listed as an alternate data, Label: 0\n",
      "Text: Subject: re : statistician from rice  osman ,  this guy is too much .  i would tell him that we understand  that he has to make the best choice  for h, Label: 0\n",
      "Text: Subject: re : loan pc  charlotte ,  i confirmed today with your colleague stuart at x 34073 and he arranged for  the cpu to be removed .  please call , Label: 0\n",
      "\n",
      "--------------------------------------------------\n",
      "\n",
      "All spam emails: \n",
      "\n",
      "SPAM: Subject: returned mail : see transcript for details  the original message was received at tue , 19 jul 2005 12 : 57 : 50 + 0200  from [ 218 . 159 . 22\n",
      "SPAM: Subject: adv : your road to financial freedom begins here !  are you overwhelmed with debt and high  interest rates ? are you receiving annoying calls\n",
      "SPAM: Subject: high - quality affordable logos  corporate image can say a lot of things about your  company . contemporary rhythm of life is too dynamic . s\n",
      "SPAM: Subject: benachrichtung  zum  ( fehlgeschlagen ) ? =  dies ist eine automatisch erstellte benachrichtigung + apw - ber den zustellstatus .  + anw - be\n",
      "SPAM: Subject: just to her . . .  you are not allowed to post to this mailing list , and your message has  been automatically rejected . if you think that y\n",
      "SPAM: Subject: claim your free home depot gift card - a $ 1000 value .  claim your home depot gift card - a $ 1000 value . were sure you can find a use for \n",
      "SPAM: Subject: localized software , all languages available .  hello , we would like to offer localized software versions ( qerman , french , spanish , uk ,\n",
      "SPAM: Subject: * * message you sent blocked by our bulk email filter * *  your message to : ponddr @ nalu . net  was blocked by our spam firewall . the emai\n",
      "SPAM: Subject: your application is below . expires july 27 .  your application for the grant is below . remember , because of the type of grant this is , yo\n",
      "SPAM: Subject: save your money buy getting this thing here  you have not tried cialls yet ?  than you cannot even imagine what it is like to be a real man i\n",
      "SPAM: Subject: reach 100 , 000 brokers charset = windows - 1252 \" >  dear industry professional ,  the importance of the  internet and the opportunities it \n",
      "SPAM: Subject: http : / / www . efi . ie  hi  i visited http : / / www . efi . ie , and  noticed that you ' re not listed on some search engines ! i think w\n",
      "SPAM: Subject: largest collection of porn mo \\ / ies ever - x 89  cum witness the most extreme sexual achievements ever to be found on the net ! we have ton\n",
      "SPAM: Subject: low price software  http : / / neonate . setupmefree . com / ? a = 3107\n",
      "SPAM: Subject: professionally - designed logos and identities  thinking of breathing new life into your business ?  start from revamping its front - endlogo\n",
      "SPAM: Subject: top - level logo and business identity  corporate image can say a lot of things about your  company . contemporary rhythm of life is too dyna\n",
      "SPAM: Subject: cash : $ 48463  dear homeowner , you have been pre - approved for a $ 200 , 000 loan at a low fixed rate . this offer is being extended to yo\n",
      "SPAM: Subject: re : change of plans  hello you two ,  i am so sorry catherine for not writing recently . i have just been vv busybeing a working mother and \n",
      "SPAM: Subject: save your money buy getting this thing here  you have not tried cialls yet ?  than you cannot even imagine what it is like to be a real man i\n",
      "SPAM: Subject: get the best price on your next car !  exclusive  offer from 24 x 7 emessaging  search for a pre - owned vehicle  buy a used car online  you \n",
      "SPAM: Subject: i think , yes .  the things we sell are known over the world !  our goods for guys are in requisition ! \n",
      "SPAM: Subject: failure notice  hi . this is the qmail - send program at mx 3 . seanet . ro .  i ' m afraid i wasn ' t able to deliver your message to the fo\n",
      "SPAM: Subject: viagra - proven step to start something all over again .  looking for a specific medication ? let us know what you need !  there is an applau\n",
      "SPAM: Subject: re [ 4 ] :  terra investigate blackouts i wonder what if . . . paint shopthere ' s also another one tupac sharuk\n",
      "SPAM: Subject: hi  how to save on your fashion medlcatlons over 70 % .  shalloon pharmzmail shop - successfull and proven way to save curvet your plumose mo\n",
      "SPAM: Subject: stock 2 watch  pop 3 media corp ( popt )  a company which has positioned itself in the gap between the major  media conglomerates and the uni\n",
      "SPAM: Subject: bettter control  hello , welcome to phar christy monline bobcat shop  - one of the leading o tarrock niine pharmaceutical shops  intoxicate v\n",
      "SPAM: Subject: learn to play texas hold ' em and other poker classics on the most popular free site .  - earn $ 100 bonus from partypoker . visit here .  qd\n",
      "SPAM: Subject: no pills , no pumps - its the patch  penis growth extreme  http : / / www . xunepa . com / ss /  death is not the worst than can happen to me\n",
      "SPAM: Subject: very uuseful  attache how to save on your medlcations over 70 % .  pharmsho fructiferous p - successfull and proven way unquestionable to sav\n",
      "SPAM: Subject: let the tba doctor save your tough cases  sex  age  face amt .  condition  other co ' s  tba  female  87  $ 2 , 000 , 000  high blood pressur\n",
      "SPAM: Subject: i know your company !  lt is really hard to recollect a company : the  market is full of suqgestions and the information isoverwheiming ; but\n",
      "SPAM: Subject: fca offrr  hello , welcome to strengthen pharmonline s preternatural hop  - one of the leading on wheatstone iine pharmaceutical shops  seste\n",
      "SPAM: Subject: clear benefits of creative design  lt is really hard to recollect a company : the  market is full of suqgestions and the information isoverwh\n",
      "SPAM: Subject: http : / / www . foulston . com  hello ,  i have visited www . foulston . com and noticed that your website is not listed on some search engi\n",
      "SPAM: Subject: claim your free $ 1000 home depot gift card .  claim your home depot gift card - a $ 1000 value . were sure you can find a use for this gift \n",
      "SPAM: Subject: you don _ t know how to attract customers to your website ?  submitting your website in search engines may increase  your online sales dramat\n",
      "SPAM: Subject: online notification : your money is ready  dear applicant ,  after further review upon receiving your application your current mortgage quali\n",
      "SPAM: Subject: out of this world $ aving $ on all xp pro titles  opt - in email special offer unsubscribe me search software top 10 new titles on sale now !\n",
      "SPAM: Subject: uregent ! important information about your website . . . .  hello ,  my name is steve scott and i ' m president and ceo of the worlds largest\n",
      "SPAM: Subject: mail delivery failed : returning message to sender  this message was created automatically by mail delivery software .  a message that you se\n",
      "SPAM: Subject: justt try lt  hello , welcome to pharmon emphases line sh pudenda op  - one of the leading oniine traction pharmaceutical shops  hydrargyrum \n",
      "SPAM: Subject: perfect logo charset = koi 8 - r \" >  thinking of breathing new life into your business ?  start from revamping its front - end - logo and vi\n",
      "SPAM: Subject: wish i ' dd tried sooner  how to save on your supper medlcations over 70 % .  redundance pharmshop - successfull and mutilation proven way to\n",
      "SPAM: Subject: free insbuyer . com agency listing  life insurance  annuities  disability insurance  health insurance  long term care insurance  mortgage ins\n",
      "SPAM: Subject: returned mail : see transcript for details  the original message was received at tue , 19 jul 2005 12 : 59 : 18 + 0200  from ntibrko 70111 . \n",
      "SPAM: Subject: all graphics software available , cheap oem versions .  good morning ,  we we offer latest oem packages of all graphics and publishinq softwa\n",
      "SPAM: Subject: first - class prescripiton medications  burgundy acetylene antagonism martial craw  locate your prescription immediately !  a whole range of \n",
      "SPAM: Subject: a cry for help  dear friend , i am mrs . sese - seko widow of late president mobutu  sese - seko of zaire ? now known as democratic republic \n",
      "SPAM: Subject: any med for your girl to be happy !  your girl is unsatisfied with your potency ? don ' t wait until she finds another men !  click here to c\n",
      "SPAM: Subject: you need only 15 minutes to prepare for the night of love .  generic ed drugs directly from manufacturer .  the gods visit the sins of the fa\n",
      "SPAM: Subject: upgrade  welcome  welcome to a community of sellers that have achieved exceptional level of success and positive feedback on ebay !  we invit\n",
      "SPAM: Subject: blow yourr life  want to know how to save over 60 % on you nailer r me probity dlcatlons ?  http : / / w masonry ww . wanleader . com - succe\n",
      "SPAM: Subject: mortgage for even the worst credit zwzm  details  want to refinance ?  fill our this quick form and immediately have mortgage  companies comp\n",
      "SPAM: Subject: some of the largest membership sites for free  get porn for free  free password to :  18 asian  huge tits xxx  free amateur hotties  free tee\n",
      "SPAM: Subject: extra time - last 5 - 10 times longer  hello ,  did you ejaculate before or within a few minutes of  penetration ?  premature ejaculation occ\n",
      "SPAM: Subject: check this impotence medication  don ' t ignore your impotence problems  feeling good is around the corner !  try now http : / / buychepmeds \n",
      "SPAM: Subject: greatly improve your stamina  my girlfriend loves the results , but she doesn ' t know what i do . she  thinks  it ' s natural - thomas , ca \n",
      "SPAM: Subject: your online sales are low because you don _ t have enough visitors ?  submitting your website in search engines may increase  your online sal\n",
      "SPAM: Subject: your in - home source of health information  you remember the most magnificent sex ? wish to repeat ? take advantage of our offer !  the best\n",
      "SPAM: Subject: [ ilug ] here is the information you requested  are you interested in making some extra money on the internet ?  well have i got something fo\n",
      "SPAM: Subject: best deals on all generic viagra and generic cialis alternatives with guaranteed lowest prices  you can feel yourself for 19 years during sex\n",
      "SPAM: Subject: ( no subject )  copy any dvd movie using your cd  burner now !  copy dvd now makes it  possible to copy  dvd on cd - r using your computer ' \n",
      "SPAM: Subject: leading in affordable healthcare . . . we care for you !  your trusted source for prescription medication .  everyone has his day and some da\n",
      "SPAM: Subject: impress your girl with a huge cumshot !  heya !  has your cum ever dribbled and you wish it had shot out ?  have you ever wanted to impress y\n",
      "SPAM: Subject: re : [ 879 ] ladybug  regain your confidence with the best generic viagra from a licensed manufacturer  it is only one click away  \n",
      "SPAM: Subject: re : do you smoke ? noscv  lookln 4 affordabowl cigarettez ? come chick it out here !  is mudguard that or swingable maybe humboldt  giovanni\n",
      "SPAM: Subject: [ ilug ] seeking your partnership  dear partner to be ,  first , i must apologise to you for using this medium to communicate to you  about t\n",
      "SPAM: Subject: logo , stationer , website design and so much more !  lt is really hard to recollect a company : the  market is full of suqgestions and the i\n",
      "SPAM: Subject: congratulations on your 2 new signups  come claim your 2 free signups . we will give  you 2 free signups and then put 2 under both  of them ,\n",
      "SPAM: Subject: [ ilug - social ] re : guaranteed to lose 10 - 12 lbs in 30 days 10 . 148  i thought you might like these :  1 ) slim down - guaranteed to lo\n",
      "SPAM: Subject: garden ornaments | ppu  our delightful garden ornaments combine the finest craftsmanship in woodworking with the lastest technology in paints\n",
      "SPAM: Subject: any software backups for lowest pricest .  best software prices .  i exist as i am , that is enough .  envy is the ulcer of the soul .\n",
      "SPAM: Subject: your e - mail to anvasetc - 1111 @ groups . msn . com cannot be delivered  you sent the message below to an unrecognized group : anvasetc - 1\n",
      "SPAM: Subject: low cost high rated insurance . why pay more ?  save  up to 70 % on your life insurance !  get  free  life insurance quotes from  the very be\n",
      "SPAM: Subject: unbiased info for investor intelligence  the oi | and gas advisory  now that oi | and gas has entered a long - term buil market ,  our specia\n",
      "SPAM: Subject: v - shoop  hello , welcome to the medzonli cloaca ne  - online pharmaceutical valorize shop .  v icelandic a  u casket m trickery vi  r needl\n",
      "SPAM: Subject: considered unsolicited bulk email from you  your message to :  - > info @ rgbaz . com  was considered unsolicited bulk e - mail ( ube ) .  su\n",
      "SPAM: Subject: perfect visual solution for your business now  working on your company ' s image ? start with a  visual identity a key to the first good impr\n",
      "SPAM: Subject: localized software , all languages available .  hello , we would like to offer localized software versions ( german , french , spanish , uk ,\n",
      "SPAM: Subject: work from home . free info  we need help . we are a 14 year old fortune 500 company , and we have  grown 1000 % ! we cannot keep up . we are \n",
      "SPAM: Subject: for your information  this is going to be our absolute notice  we have attempted to drop a line to you on a lot times and now is the time to \n",
      "SPAM: Subject: don ' t lose your data ! prevent future computer problems at a fraction  of the cost of repairs  web and order form : pro - techonline . com \n",
      "SPAM: Subject: software taking a bite out of your budget ? try oem !  can ' t draw a straight line ? well . . . now you can !  they have computers , and the\n",
      "SPAM: Subject: market internet access - no investment needed  market internet access  no investment needed  premium internet access for only $ 14 . 95 per m\n",
      "SPAM: Subject: new impotence drug that treats male erectile dysfunction !  prescription medication for mens health and wellness .  he that dies pays all deb\n",
      "SPAM: Subject: http : / / www . kirkbridebuildings . com  hello ,  i have visited www . kirkbridebuildings . com and noticed that your website is not listed\n",
      "SPAM: Subject: - - > direct marketing will increase sales 23875  there is no stumbling on to it !  the greatest way of marketing this century  is undoubtedl\n",
      "SPAM: Subject: winning one of our chopard and feel the triumph on your wrist .  these beauties have thesame fea - tures and logos as their originals . you w\n",
      "SPAM: Subject: only our software is guaranteed 100 % legal .  name - brand software at low , low , low , low prices  everything comes to him who hustles whi\n",
      "SPAM: Subject: free sizzling ltc sales materials  ltc prospecting pamplets  ltc scriptless flip chart  25 of \" what is long term care ?  or  25 of \" 6 big m\n",
      "SPAM: Subject: shopping for software ? now in your language & currency !  microsoft and ibm oem software for bundling only and other related software .  how\n",
      "SPAM: Subject: here ' s a hot play in motion  homeland security investments  the terror attacks on the united states on september 11 , 20 ol have  changed  \n",
      "SPAM: Subject: not another bad offrr  w starred ant to know how to save over 60 % on your piils ?  http : / / www . inter oppose good . com - successfull an\n",
      "SPAM: Subject: save your money buy getting this thing here  you have not tried cialls yet ?  than you cannot even imagine what it is like to be a real man i\n",
      "SPAM: Subject: let ' s appreciate it . . . .  dear  we are proud to introduce to you this amazing painting form emile  louisius . let us appreciate it toget\n",
      "SPAM: Subject: underpriced issue with high return on equity  the oil and gas advisory  now that oil and gas has entered a long - term bul | market ,  our sp\n",
      "SPAM: Subject: it works greatt  hello , welcome to medzonli moonbeam ne shop  we are pleased to introduce ourselves as one of the ieading online ph pandemon\n",
      "SPAM: Subject: search for the best and cheapest pharmacy online  save 80 % over the brandnames like viagra , cialis and propecia  anatomy is destiny .  oh ,\n",
      "SPAM: Subject: save your money by getting an oem software !  need in software for your pc ? just visit our site , we might have what you need . . .  best re\n",
      "SPAM: Subject: younger and healthier with ultimate - hghl 7283  as seen on nbc , cbs , cnn , and even oprah ! the health discovery that actuallyreverses agi\n",
      "SPAM: Subject: save 70 % on laser toner and inkjet cartridges !  due to heavy demand from our customers we are extending the  5 % extra off coupon on all yo\n",
      "SPAM: Subject: offer your clients 11 . 19 %  11 . 19 %  first year ( 5 . 9 % first year rate plus 5 % premium bonus )  5 . 5 % commission * , plus bonus ( c\n",
      "SPAM: Subject: picks from analyst with high - level precision  small - cap stock finder  new developments expected to move western sierra mining , inc . sto\n",
      "SPAM: Subject: discontinue making p a y m e n t s immediately  harassing calls and letters brought to a stand still .  we have pioneered an advanced system \n",
      "SPAM: Subject: business partnership ( urgent / confidential )  mr . vincent nnaji ,  standard trust bank ltd ,  lagos , nigeria .  dear sir ,  i am mr . vin\n",
      "SPAM: Subject: natural remedies for sexual health  you have not tried cialis yet ?  conservatives are not necessarily stupid , but most stupid people are co\n",
      "SPAM: Subject: the best investments  otc  newsletter  discover tomorrow ' s winners  for immediate release  cal - bay ( stock symbol : cbyi )  watch for ana\n",
      "SPAM: Subject: all graphics software available , cheap oem versions .  good morning ,  we we offer latest oem packages of all graphics and publishinq softwa\n",
      "SPAM: Subject: veryy useful  how to save on y slapstick our medlcations over 70 % .  pha unhang rmshop - successf uninhibited ull and proven way to save you\n",
      "SPAM: Subject: want me on top ? 189643322211  put these nasty sluts to the test ! free access ! !  heavy hard and free !  nothing to loose ! ! click here , \n",
      "SPAM: Subject: i never sent you this - keep it hush hush ! : ) xgab  online credit breakthroughrepair your credit online ! 9 3 komv 2 wsfoclxkmsyflo 4 owgr \n",
      "SPAM: Subject: v and more  hello , welcome to the medzonli plainclothesman ne  - online pharmaceu varicoloured tical shop .  v tzigane a  u persuasiveness m\n",
      "SPAM: Subject: use this handy interest calculator to get current rate information . chhfb  use this handy interest calculator to get current rate availabili\n",
      "SPAM: Subject: 200 million targeted leads cd * only $ 99 . 95 *  you can ' t beat this deal :  200 million email addresses database , on 2 cds ! ! = = only \n",
      "SPAM: Subject: unique logos / customer recognition ( 74436558 )  140  our art team creates a custom logo for you , based on your needs . years of experience\n",
      "SPAM: Subject: looking for property in spain ?  looking for  property in spain ?  don _ t waste your time !  that is what  most people do when they look for\n",
      "SPAM: Subject: undelivered mail returned to sender  this is the postfix program at host correio . quick . com . br .  i ' m sorry to have to inform you that\n",
      "SPAM: Subject: same medicine , different price !  big savings on brand name drugs .  injustice anywhere is a threat to justice everywhere .  some rise by si\n",
      "SPAM: Subject: congratulations on your 6 new signups  we guarantee you free signups before you ever pay  a penny ! we will show you the money before you  ev\n",
      "SPAM: Subject: you don _ t know how to attract customers to your website ?  submitting your website in search engines may increase your online sales dramati\n",
      "SPAM: Subject: re : money issues ygr  repair your credit online ! it ' s the online credit breakthroughyou ' ve been waiting for ! in less than 5 minutes , \n",
      "SPAM: Subject: restore your access  security  assistance  it has come to our attention that your account information needs to be  updated as part of our con\n",
      "SPAM: Subject: outstanding opportunities for \" premier producers \"  for a confidential phone interview please complete form submit  name :  e - mail :  phon\n",
      "SPAM: Subject: buy oil stocks now  calgary , alberta , jul 7 , 2005 ( ccnmatthews via comtex ) - - on behalf of smsmobility , inc . ( the company ) ( pink s\n",
      "SPAM: Subject: 6 % commission on 12 month \" cd - style \" annuity  3 . 35 % guaranteed  great roll - over options  issued to age 85  6 % commission through a\n",
      "SPAM: Subject: hardcore sex & orgies ! ! !  hot girls fucking hard ! ! !  click here to see  click here to see  click here to see  * over 150 , 000 xxx pict\n",
      "SPAM: Subject: winning notification ! !  bank giro loterij . international promotion program  van eeghenstraat 70 , 1071 gk amsterdam  from : the director o\n",
      "SPAM: Subject: delivery status notification  - these recipients of your message have been processed by the mail server :  antonioacm @ zipmail . com . br ; \n",
      "SPAM: Subject: x 2 o automated wealth builder .  511771  the truth !  it takes 32 glasses of alkaline water to neutralize the  acid from one 12 oz . soda . \n",
      "SPAM: Subject: gov ' t guaranteed home business  wealth without risk ! ! !  discover the best kept secret in america !  turning $ 300 into $ 20 , 000  in ok\n",
      "SPAM: Subject: peniss growth patches are here ! . . . quintessential  good morning sir ,  check out the discounts these guys are offering on enlarge patches\n",
      "SPAM: Subject: guzzle like a fountain  spur m rocks , our customer speaks :  \" my girlfriend and me have been really enjoying making  our own homemade eroti\n",
      "SPAM: Subject: save your money buy getting this thing here  you have not tried cialls yet ?  than you cannot even imagine what it is like to be a real man i\n",
      "SPAM: Subject: ms office xp pro $ 49 . 95 ms 2003  opt - in email special offer unsubscribe me search software top 10 new titles on sale now ! 1 office pro \n",
      "SPAM: Subject: v . to youu  hello , welcome to pharmon flatting line sh reflective op  - one of the leading oniine chinatown pharmaceutical shops  vaccinate\n",
      "SPAM: Subject: re : wall street micro news report  homeland security investments  the terror attacks on the united states on september 11 , 2001 have  chang\n",
      "SPAM: Subject: for your information  this has been our final notification  we have aimed to make contact with you on a lot periods and we hope for you reply\n",
      "SPAM: Subject: usa cheapest licensed pharmacy  we provide top class world wide lifestyle medications , at incredible prices .  if a man cannot choose , he c\n",
      "SPAM: Subject: lock in your clients ' gains !  a winning combination : the market  choice iiism from north american  company for life health insurance and s\n",
      "SPAM: Subject: security alert - confirm your ebay information  ebay suspension  need help ?  dear valued ebay member ,  we regret to inform you that your eb\n",
      "SPAM: Subject: all graphics software available , cheap oem versions .  good morning ,  we we offer latest oem packages of all graphics and publishinq softwa\n",
      "SPAM: Subject: urgent reply needed  from : mr . usman bello .  attention sir  in appreciation of your esteemed contact received through a reliable source , \n",
      "SPAM: Subject: mail delivery failed : returning message to sender  this message was created automatically by mail delivery software .  a message that you se\n",
      "SPAM: Subject: delivery status notification ( failure )  this is an automatically generated delivery status notification .  delivery to the following recipi\n",
      "SPAM: Subject: re [ 15 ] :  i ' ll give you . . microsoft xbox love stories go ahead . men u . s . postal service\n",
      "SPAM: Subject: start shopping at costco today with a complimentary gold membership in your area .  start shopping at costco today with a free gold membershi\n",
      "SPAM: Subject: otc gdvi - the momentum continues - gdvi website debute  otc bbalert gdvi  news update : global diversified industries debutes brand new webs\n",
      "SPAM: Subject: perfect logo charset = koi 8 - r \" >  thinking of breathing new life into your business ?  start from revamping its front - endlogo and  visu\n",
      "SPAM: Subject: innovative and effective design for you !  adqueen is an institute committed  to brand planning and designing for enterprises , providing end\n",
      "SPAM: Subject: urgent response  dear sir / madam ,  you may be surprised to receive this letter from me , since you don ' t know me personally . i am mrs ma\n",
      "SPAM: Subject: looking for cheap high - quality software ?  software compatibility . . . . ain ' t it great ?  silence is golden when you can ' t think of a\n",
      "SPAM: Subject: tell these cam sluts what to do  to be removed please click here or simply respond to this email . your address will be removed and blocked f\n",
      "SPAM: Subject: add logos and tones to your cell phone 1575332211111  take yourself out of our list by clicking here  bored  with  your cell phone ?  get  co\n",
      "SPAM: Subject: my new life  hello , welcome to pharmonli stimulant ne sh cordiality op  - one of the leading oniine pharmaceutical sho untrodden ps  derring\n",
      "SPAM: Subject: ebay and auction info 30314  you are receiving this email because you have expressed an interest  in making money with ebay and or on the int\n",
      "SPAM: Subject: don ' t be a fuddy - duddy . . . use the software everyone ' s using . . .  send the love home with an online photo album  we was robbed !  h\n",
      "SPAM: Subject: re : we have all your favorite programs at incredibly low prices  the cheapest p * c prices  bundle 1 :  windows x * p pro & office x * p pro\n",
      "SPAM: Subject: re : september 11 , 2001  hi my name is jason , i recently visited www . muhajabah . com / wtc . htm and wanted to offer my services . we cou\n",
      "SPAM: Subject: make this investigator work for you .  astounding  new software lets you find  out almost anything about anyone  click here to download it ri\n",
      "SPAM: Subject: in the heart of your business !  corporate image can say a lot of things about your  company . contemporary rhythm of life is too dynamic . s\n",
      "SPAM: Subject: grab this quick triple at its low  homeland security investments  the terror attacks on the united states on september 11 , 2 ool have  chang\n",
      "SPAM: Subject: traditional & internet marketing tool  the ultimate traditional & internet marketing tool , introducing the \" masterdisc 2002 \" version 4 . 0\n",
      "SPAM: Subject: considered unsolicited bulk email from you  your message to :  - > distmora @ agrocom . com . ar  was considered unsolicited bulk e - mail ( \n",
      "SPAM: Subject: prime lenders application status  we tried to contact you last week about refinancing your home at a lower rate .  i would like to inform you\n",
      "SPAM: Subject: all graphics software available , cheap oem versions .  good morning ,  we we offer latest oem packages of all graphics and publishing softwa\n",
      "SPAM: Subject: failure notice  hi . this is the qmail - send program at sys 25 . 3 fn . net .  i ' m afraid i wasn ' t able to deliver your message to the f\n",
      "SPAM: Subject: debt information tue , 28 jun 2005 .  subject : debt information tue , 28 jun 2005 .  thank you for using our online store and for your previ\n",
      "SPAM: Subject: your online sales are low because you don _ t have enough visitors ?  submitting your website in search engines may increase  your online sal\n",
      "SPAM: Subject: no more need for a lift or support bra ! 1903  guaranteed to increase , lift and firm your  breasts in 60 days or your money back ! !  100 % \n",
      "SPAM: Subject: localized software , all languages available .  hello , we would like to offer localized software versions ( german , french , spanish , uk ,\n",
      "SPAM: Subject: the probblem solved  how to save on your medl prolocutor catlons over 60 % .  pharma nettle zmail shop - successfull and proven way to sav to\n",
      "SPAM: Subject: more cash for the business you already write - immediately  get your bonus ! call mo marketing today !  or  please fill out the form below fo\n",
      "SPAM: Subject: oreo cookies nationwide survey - win a years supply of oreos .  oreo ' s survey - complimentary $ 50  gift card or a one year supply of oreo \n",
      "SPAM: Subject: still wanna her ? : - )  you have not tried cialls yet ?  than you cannot even imagine what it is like to be a real man in bed !  the thing i\n",
      "SPAM: Subject: [ ilug - social ] everybody gets paid - no recruiting needed  everybody gets paid . no recruiting required .  join and reserve a position for\n",
      "SPAM: Subject: otc live ' s new home run oil stock otc bb : qoil  dont  sleep on this stock ! this is a hot one ! new orders all  the time ! ! !  tscintrodu\n",
      "SPAM: Subject: corporate identity for your business  corporate image can say a lot of things about your  company . contemporary rhythm of life is too dynami\n",
      "SPAM: Subject: sex is a play , and you must win !  your source for the very best viagra deals on the ' net . always up to date !  luck is what happens when \n",
      "SPAM: Subject: massage from bernard  from : bernard louis mcarthy esq . ,  trend services ltd .  direct private phone : + 44 7040115431  dear ,  compliments\n",
      "SPAM: Subject: charity sees the need not the cost . . .  dear friend ,  as you read this , i don ' t want you to feel sorry for me , because , i believe eve\n",
      "SPAM: Subject: in the heart of your business !  corporate image can say a lot of things about your  company . contemporary rhythm of life is too dynamic . s\n",
      "SPAM: Subject: shee thinks i ' m a god  hello , welcome to pharm dowser online sho sequestration p  - one of animate the leading oniine pharmaceutical shops\n",
      "SPAM: Subject: excelleent news  how halving to save on your medlcations over 70 % .  pharms grindery hop - suc bunker cessfull and proven way to save your m\n",
      "SPAM: Subject: hey ! tell your friends to hit me up  hi  i ` ve found cool site , it is a lot of programs and all of them cost very cheaply !  it ' s a url \n",
      "SPAM: Subject: your premier mortgage information source  mortgage rates slashed for  the last time !  let us help you get a new mortgage for up to  100 % of\n",
      "SPAM: Subject: bigger , fuller breasts naturally in just weeks ! uqouq  for women ages 13 to 60 plus . . . .  as seen on tv . . . .  safely make your breast\n",
      "SPAM: Subject: fw : keep it under wraps , but this one works a treat ! 25031  thank you ,  your email address was obtained from a purchased  list , referenc\n",
      "SPAM: Subject: give your partner more pleasure  the longz system , both the capsules and the free instructional manual , give  you the most effective ways t\n",
      "SPAM: Subject: localized software , all languages available .  hello , we would like to offer localized software versions ( german , french , spanish , uk ,\n",
      "SPAM: Subject: latina teens ! !  see these sweet latina honeys go from clothed to fucked ! ! !  too good to be true ?  not a chance . . . our girls love to \n",
      "SPAM: Subject: your in - home source of health information  same medicine , different price !  never go to bed mad . stay up and fight .  it is in justice t\n",
      "SPAM: Subject: unauthorized transactions on your account  update your account  dear  valued cust omer  we r  egret to inform you that your account at  ebay \n",
      "SPAM: Subject: in the heart of your business !  corporate image can say a lot of things about your  company . contemporary rhythm of life is too dynamic . s\n",
      "SPAM: Subject: claim your free home depot gift card - a $ 1000 value .  claim your home depot gift card - a $ 1000 value . were sure you can find a use for \n",
      "SPAM: Subject: lose 20 pounds in 10 days 27540  lose weight fast , without special diets or expensive foods  no starving yourself !  if you are tired of sta\n",
      "SPAM: Subject: failure notice  this is the mail delivery agent at messagelabs . com .  i was not able to deliver your message to the following addresses .  \n",
      "SPAM: Subject: important news  hey visioson @ hpp . za . net ,  download popular programs from our site :  get back to you later ,  eduardo baez  i need to \n",
      "SPAM: Subject: re :  good day ,  everybody will love to get p - p - t - v and pay not a cent .  so will you , check the below web address ,  copy it and pas\n",
      "SPAM: Subject: save your money buy getting this thing here  you have not tried cialls yet ?  than you cannot even imagine what it is like to be a real man i\n",
      "SPAM: Subject: improved health jbtfcz  to  find out more , click on the link below  more info  increase your sex  drive ! ! !  great sexin a bottle !  knock\n",
      "SPAM: Subject: be one of our survey takers and we ' ll send you a complimentary laptop computer .  computer survey group needs survey takers in your area no\n",
      "SPAM: Subject: http : / / www . surfbuddies . net  hello ,  i have visited www . surfbuddies . net and noticed that your website is not listed on some searc\n",
      "SPAM: Subject: are you listed in major search engines ?  submitting your website in search engines may increase your online sales dramatically .  if you inv\n",
      "SPAM: Subject: the penis patch is amazing  the penis patch is amazing  http : / / www . gretan . com / ss /  who can believe that there is no soul behind th\n",
      "SPAM: Subject: earn 10 k per week with a new system ! 9652 cyuh 7 - 164 rdh - 15  greetings !  you can earn up to 10 k per week doing simple  online tasks w\n",
      "SPAM: Subject: mid summer flag special : free shipping  armstrong flag company  spring special : free shipping  order  today and receive a free car flag  fr\n",
      "SPAM: Subject: we owe you lots of money  dear applicant , after further review upon receiving your application your current mortgage qualifies for a 4 . 75 \n",
      "SPAM: Subject: all graphics software available , cheap oem versions .  good morning ,  we we offer latest oem packages of all graphics and publishing softwa\n",
      "SPAM: Subject: all graphics software available , cheap oem versions .  good morning ,  we we offer latest oem packages of all graphics and publishing softwa\n",
      "SPAM: Subject: great news . youve been pre - approved for a new . .  we tried to contact you last week about refinancing your home at a lower rate .  i woul\n",
      "SPAM: Subject: you want to submit your website to search engines but do not know how to do it ?  submitting your website in search engines may increase  you\n",
      "SPAM: Subject: mail delivery failed : returning message to sender  this message was created automatically by mail delivery software .  a message that you se\n",
      "SPAM: Subject: get your babies diapers bill paid for , for a year !  your family could definately use this , now go .  kaazqchn\n",
      "SPAM: Subject: you are approved for your loan ! ! ! approval no . ( 1848025 )  refinancing  your mortgage may be easier then you think !  now that rates are\n",
      "SPAM: Subject: perfect visual solution for your business now  working on your company ' s image ? start with a  visual identity a key to the first good impr\n",
      "SPAM: Subject: re : 6 . 25 30 yr fixed home loan , no points flu  dear  homeowner ,  * 6 . 25 %  30 yr fixed rate mortgage  interest  rates are at their low\n",
      "SPAM: Subject: you can get a quote from 4 major lenders without giving personal info ! tijqsemw  you can get a quote at 4 lenders with no personal info ! gr\n",
      "SPAM: Subject: your best source for viagra and more . . . . get harder , stay hard . . . longer  save on average 70 % with generic medications !  courage is\n",
      "SPAM: Subject: all natural viagra alternative !  the following advertisement is being sponsored by  avirtualshopper . com  the internets leading source for \n",
      "SPAM: Subject: over 80 % savings on all best - selling windows titles  opt - in email special offer unsubscribe me search software top 10 new titles on sale\n",
      "SPAM: Subject: failure notice  hi . this is the qmail - send program at hybeammaill . inetu . net .  i ' m afraid i wasn ' t able to deliver your message to\n",
      "SPAM: Subject: big range of all types of downloadable software .  need software ? click here .  our american professors like their literature clear , cold ,\n",
      "SPAM: Subject: are you ready to get it ?  hello !  viagra is the # 1 med to struggle with mens ' erectile dysfunction .  like one jokes sais , it is strong \n",
      "SPAM: Subject: returned mail : see transcript for details  the original message was received at tue , 19 jul 2005 06 : 59 : 51 - 0400 ( edt )  from p 62 fl \n",
      "SPAM: Subject: http : / / ira . abramov . org  hello ,  i have visited ira . abramov . org and noticed that your website is not listed on some search engine\n",
      "SPAM: Subject: avoid fake viagra get the real thing  take energy pills for sexual health  she ' s the only man in my cabinet .  act as if were impossible to\n",
      "SPAM: Subject: your online sales are low because you don _ t have enough visitors ?  submitting your website in search engines may increase  your online sal\n",
      "SPAM: Subject: re : how are you ? 8456  fill out our short application for an unbelievable 4 . 1 % mortgage ( apr )  ( ) home refinancing  ( ) home improvem\n",
      "SPAM: Subject: great idea for you byrdshot  mortgage rates are about to rise  cash in now !  our programs will help you with :  - debt consolidation  - 2 nd\n",
      "SPAM: Subject: entrust your visual identity to us  thinking of breathing new life into your business ?  start from revamping its front - endlogo and  visual\n",
      "SPAM: Subject: save your money buy getting this thing here  you have not tried cialls yet ?  than you cannot even imagine what it is like to be a real man i\n",
      "SPAM: Subject: software store  http : / / infinity . realoemsales . com / ? a = 3107\n",
      "SPAM: Subject: new love tabs shop .  visit our llcensed online dragstore for the best inexpensive love drags ! viagra , ciaiis , softtabs and many other lov\n",
      "SPAM: Subject: naturally irresistible your corporate identity  lt is really hard to recollect a company : the  market is full of sugqestions and the informa\n",
      "SPAM: Subject: get big , ripped & strong ! ! deca , d - bol , winni - v ! 1095  get big , ripped , & strong ! real anabolic pharmaceuticals ! *  - d - bol  \n",
      "SPAM: Subject: more vv  want to know h furfur ow to save over 60 % on your piils ?  http : / / w postillion ww . pledelo . com - successfull and proven uncu\n",
      "SPAM: Subject: custom logos and identities from us  thinking of breathing new life into your business ?  start from revamping its front - endlogo and  visua\n",
      "SPAM: Subject: perfect logo charset = koi 8 - r \" >  thinking of breathing new life into your business ?  start from revamping its front - end - logo and vi\n",
      "SPAM: Subject: partnership .  from : zimmy mabo .  tel : 0031 - 623 - 787 - 971 .  e - mail : infoeurope @ lycos . com .  the nederlands .  soliciting for a\n",
      "SPAM: Subject: [ wm ] ( no subject )  dear our guests ,  explore turkey with astartetours ! !  hotel reservations :  you will find more than 200 hotels all \n",
      "SPAM: Subject: 4 for 1 forward stock split - ends monday  have a look at this info i just received for hllf  halal financial services hllf  halal financial \n",
      "SPAM: Subject: save your money buy getting this thing here  you have not tried cialls yet ?  than you cannot even imagine what it is like to be a real man i\n",
      "SPAM: Subject: secure your account  dear lasalle bank  customer ,  we  recently noticed one or more attempts to login intro your lasalle bank  online  banki\n",
      "SPAM: Subject: you launched a website but no one visits it ?  submitting your website in search engines may increase  your online sales dramatically .  lf y\n",
      "SPAM: Subject: fyi  barclays bank plc  63 st . mary axe  london ec 3 a 8 le  email : timkennedyo 03 @ netscape . net  fax : + 447092868687  i am mr . tim ke\n",
      "SPAM: Subject: any med for your girl to be happy !  your girl is unsatisfied with your potency ? don ' t wait until she finds another men !  click here to c\n",
      "SPAM: Subject: cc prevents diesel fuel gelling 3750 r - 5  1075 rxoo 9 - 26 ll 1  increase your gas mileage  it ' s easy and fast  anyone can install  works\n",
      "SPAM: Subject: bring on the best software . . . at the most reasonable prices !  best software prices .  why can ' t they invent something for us to marry i\n",
      "SPAM: Subject: congratulations on your 6 new signups  we guarantee you signups before you ever pay  a penny ! we will show you the green before you  ever ta\n",
      "SPAM: Subject: re : new page  hi sweetie ,  come see the most beautiful , sweet . . .  - - > 18 year old girls bare it all ! < - -  http : / / freexmovies .\n",
      "SPAM: Subject: are you listed in major search engines ?  submitting your website in search engines may increase  your online sales dramatically .  if you in\n",
      "SPAM: Subject: considered unsolicited bulk email from you  your message to :  - > distmatu @ agrocom . com . ar  was considered unsolicited bulk e - mail ( \n",
      "SPAM: Subject: come on ! it ' s fun and easy ! !  * * * please read this email to the end * * *  try it . just for fun . it will cost you 25 $ to earn at le\n",
      "SPAM: Subject: please help my child  dear sir / mam ,  i have send this email in order to recive some help .  i am a single father from italy and i have a b\n",
      "SPAM: Subject: highest concentration of pure human pheromone ovdkspcr  x = = x * x = = xx = = x * x = = xx = = x * x = = xx = = x * x = = xx = = x * x = = x\n",
      "SPAM: Subject: affordable online prescripiton here  caucasus brenda pontific  locate your prescription immediately !  we have all tablets you could possibly\n",
      "SPAM: Subject: roletes e roldanas para empilhadeiras  santos , julho de 2 . 005  listagem dos produtos savi  linha hyster :  193557 rolete r $ 90 , 00  1935\n",
      "SPAM: Subject: adv oil and gas investment tgym  how would you like a 100 % tax free investment in oil and gas wells ?  make over 100 % annually and receive \n",
      "SPAM: Subject: * * your account may suspend * *  dear paypal member ,  you have received this email as part of a verified paypal campaign meant to  increase\n",
      "SPAM: Subject: save your money by getting an oem software !  need in software for your pc ? just visit our site , we might have what you need . . .  best re\n",
      "SPAM: Subject: are you ready to get it ?  hello !  viagra is the # 1 med to struggle with mens ' erectile dysfunction .  like one jokes sais , it is strong \n",
      "SPAM: Subject: wall street ' s dirty little secret . . .  it was the spring of 1979 .  i was just a tall , goofy looking kid in middle school  with buck - t\n",
      "SPAM: Subject: http : / / www . joelpittet . com  hello ,  i have visited www . joelpittet . com and noticed that your website is not listed on some search \n",
      "SPAM: Subject: want to make a million ! ! ! ! ! ! ! ! ! ! ! ! ! ! ! ! ! ! ! ! ! ! ! ! ! ! ! ! ! ! ! ! ! ! ! ! ! ! ! ! ! !  want to make a million bucks this\n",
      "SPAM: Subject: best prescription generic meds 4 less .  save up to 90 % on retail prices !  never judge a book by its movie .  must not all things at the la\n",
      "SPAM: Subject: a wedding consulting business of your own  do you know what a wedding consultant is ?  maybe it ' s something you ' ve always thought about d\n",
      "SPAM: Subject: urgent safeharbor department warning  urgent  safeharbor department warning  we recently have determined that different computers have logged\n",
      "SPAM: Subject: winning notification ! ! ! ! ! ! ! ! ! ! ! !  from : the director  european prize award dept  ref : el 3 / 9318 / 04  batch : 8 / 163 / el . \n",
      "SPAM: Subject: teach and grow rich  do you want to teach and grow rich ?  if you are a motivated and qualified communicator , i will personally train you to\n",
      "SPAM: Subject: save your money by getting an oem software !  need in software for your pc ? just visit our site , we might have what you need . . .  best re\n",
      "SPAM: Subject: save your money by getting an oem software !  need in software for your pc ? just visit our site , we might have what you need . . .  best re\n",
      "SPAM: Subject: neeed medz ?  how to save on your me subarctic dlcations over 70 % .  pharmsh banquet op - successfull a hippie nd proven way to save your mo\n",
      "SPAM: Subject: scrub the web confirmation required  your confirmation is required by jul 28 , 2005 - see below !  thanks again for submitting your url at sc\n",
      "SPAM: Subject: . jif  . \n",
      "SPAM: Subject: almost - guaranteed issue term  almost guarantee issue term for impaired risk market  10 year level term - 8 medical questions  issue ages 20\n",
      "SPAM: Subject: need a graphic artist ? come here .  thinking of breathing new life into your business ?  start from revamping its front - endlogo and  visua\n",
      "SPAM: Subject: perfect logo charset = koi 8 - r \" >  thinking of breathing new life into your business ?  start from revamping its front - end - logo and vi\n",
      "SPAM: Subject: special report ! tivo : now or never ?  in this issue  interactive tv power rankings !  tivo : now or never ?  breaking news  coming attracti\n",
      "SPAM: Subject: give your pc a tune - up with system mechanic  if you want to make  sure that emails from realnetworks go to your inbox and not to your junk \n",
      "SPAM: Subject: the credit law is on your side jm ! get perfect credit now !  i will show you how you can quickly and easily improve your credit to a perfect\n",
      "SPAM: Subject: [ ilug ] re : popular . biz and . com extensions for only $ 14 . 95  register . com , . biz , and . info domains for only $ 14 . 95  the new \n",
      "SPAM: Subject: more than 100 , 000 u . s . jobs available  are you looking for a job ? are you planning for a career change ? does your current job pay you \n",
      "SPAM: Subject: ion  online security notification  dear lasalle bank member ,  to prevent unauthorized access to your lasalle internet banking account , we h\n",
      "SPAM: Subject: perfect logo charset = koi 8 - r \" >  thinking of breathing new life into your business ?  start from revamping its front - end - logo and vi\n",
      "SPAM: Subject: are you happy about your size and sexual performance ?  experience more powerful orgasms  http : / / www . siratu . com / ss /  our thoughts \n",
      "SPAM: Subject: http : / / www . blomqvist . org  hello ,  i have visited www . blomqvist . org and noticed that your website is not listed on some search en\n",
      "SPAM: Subject: [ ilug - social ] we want to trade with you  why spend your hard earned cash ?  barter your business product or service , personal item , col\n",
      "SPAM: Subject: wallstreet pulse  good day to all broker ' s , day trader ' s and investor ' s world s . tock report  has become famous with some great stoc \n",
      "SPAM: Subject: when will the real estate bubble burst ? - live meeting july 21 st on alternative investments  event date : thursday july 21 st at 10 : 30 am\n",
      "SPAM: Subject: software for system builders , resellers , and hardware purchasers only .  get latest softwares , 99 % savings .  the two most abundant thing\n",
      "SPAM: Subject: extraa chance  how to save on your medlcatlons ove pettitoes r 60 % .  pharmazm spurge ail shop - successfull and proven way to save yo compo\n",
      "SPAM: Subject: cigarettes wholesale ! hywwzzlzd  $ 19 . 95 and up ! buy cartons of cigarettes wholesale , starting at $ 19 . 95 .  free shipping !  why pay \n",
      "SPAM: Subject: calling all small stock players  ames is fascism but conrail not bagley apartheid and milton like russo snowshoe pail is baneberry not hencef\n",
      "SPAM: Subject: new love tabs shop .  visit our llcensed online dragstore for the best inexpensive love drags ! viagra , ciaiis , softtabs and many other lov\n",
      "SPAM: Subject: save 84 % on ce credits  no hidden fees  over 16 , 000 credits  over 300 courses  90 % internet based  high quality courses  unlimited access\n",
      "SPAM: Subject: on line gaming report  special online issue  investment news and indepth reports  high growth investing  online gaming report : ggts  company\n",
      "SPAM: Subject: localized software , all languages available .  hello , we would like to offer localized software versions ( german , french , spanish , uk ,\n",
      "SPAM: Subject: re : my pic  hi sweetie ,  come see me and my hot girl friends school at our new web site - >  http : / / picturepost . phreehost . com / myp\n",
      "SPAM: Subject: we focus on oem and retail box for microsoft , adobe , macromedia , corel , symantec and more .  software for system builders , resellers , a\n",
      "SPAM: Subject: [ ilug ] assistance  from : col . michael bundu .  democratic republic of congo .  tel no : your country intl . access code + 8821652098236  \n",
      "SPAM: Subject: undelivered mail returned to sender  this is the postfix program at host relayl . netspace . net . au .  i ' m sorry to have to inform you th\n",
      "SPAM: Subject: clear benefits of creative design  lt is really hard to recollect a company : the  market is full of sugqestions and the information isoverwh\n",
      "SPAM: Subject: term insurance is out  aggressive underwriting programs such as . . .  table 5 to standard on permanent cases !  other company term to perman\n",
      "SPAM: Subject: quiicker  hello , welcome to pha judges rmonline sho apodal p  - one of ignominious the leading oniine pharmaceutical shops  obstructionism v\n",
      "SPAM: Subject: send the love home with an online photo album  get cd and downloads , all software under $ 99 - $ 15  nobody will believe in you unless you b\n",
      "SPAM: Subject: banned cd ! banned cd !  i have been receiving emails saying that i ' m contributing to the \" moral decay of society \" by selling the banned \n",
      "SPAM: Subject: i think you might be interested 2005 - 07 - 05 18 : 53 : 34  hello marcotitzer ,  i just found a site called graand . com - a free and safe p\n",
      "SPAM: Subject: save your money by getting an oem software !  need in software for your pc ? just visit our site , we might have what you need . . .  best re\n",
      "SPAM: Subject: free original star wars cards adv :  own a unique , one - of - a - kind piece of star - wars history !  exclusively licensed fromlucas film l\n",
      "SPAM: Subject: perfect logo charset = koi 8 - r \" >  thinking of breathing new life into your business ?  start from revamping its front - end - logo and vi\n",
      "SPAM: Subject: localized software , all languages available .  hello , we would like to offer localized software versions ( german , french , spanish , uk ,\n",
      "SPAM: Subject: digital voice recorders  dear sir / madam  our company is designer and manufacturer of digital voice recorders ( dvr ) edic - mini http : / /\n",
      "SPAM: Subject: click here to improve your wellbeing today  best prescription generic meds 4 less .  that ' s the secret to life . . . replace one worry with\n",
      "SPAM: Subject: look to our shop for all your prescription needs .  10 minutes before sex , lasts for 24 - 36 hours  great minds think alike , and fools seld\n",
      "SPAM: Subject: ) .  your message  subject : just to her . . .  was not delivered to :  bastide . laurent @ bastide . info  because :  destinataire non uniqu\n",
      "SPAM: Subject: aggressive investors should be watching sports alumni , inc .  investor alert !  if a group of  investors would have the opportunity to have \n",
      "SPAM: Subject: very sspecial offr  hello , welcome to pharmon blaspheme line s numeral hop  - one of the leading oniine pharmaceuti whether cal shops  phant\n",
      "SPAM: Subject: are you ready to get it ?  hello !  viagra is the # 1 med to struggle with mens ' erectile dysfunction .  like one jokes sais , it is strong \n",
      "SPAM: Subject: in the heart of your business !  corporate image can say a lot of things about your  company . contemporary rhythm of life is too dynamic . s\n",
      "SPAM: Subject: for your information  dear homeowner ,  after completing the review we are pleased to offer you the following ,  your current mortgage qualif\n",
      "SPAM: Subject: a new era of online medical care .  right place to look for buying cheap viagra online !  emancipate yourselves from mental slavery , none bu\n",
      "SPAM: Subject: holidays are coming ?  help wanted . we are a 14 year old fortune 500 company , that is  growing at a tremendous rate . we are looking for in\n",
      "SPAM: Subject: all graphics software available , cheap oem versions .  good morning ,  we we offer latest oem packages of all graphics and publishing softwa\n",
      "SPAM: Subject: localized software , all languages available .  hello , we would like to offer localized software versions ( qerman , french , spanish , uk ,\n",
      "SPAM: Subject: claim your free $ 1000 home depot gift card .  claim your home depot gift card - a $ 1000 value . were sure you can find a use for this gift \n",
      "SPAM: Subject: [ ilug - social ] prirodu requiremus social sample  social  on january lst 2002 , the european countries began  using the new euro . never be\n",
      "SPAM: Subject: re [ 4 ] : don ' t get left behind ! . . . needham  good morning sir ,  check out the discounts these guys are offering on enlarge patches ! \n",
      "SPAM: Subject: use this handy interest calculator to get current rate information . dhfeo  use this handy interest calculator to get current rate availabili\n",
      "SPAM: Subject: urgent contact  from the desk of : dr tom eke .  e - mail : dr _ tomeke @ spinfinder . com  lagos - nigeria .  attn :  request for urgent bus\n",
      "SPAM: Subject: partnership  mr . edward moko  18 independence close ,  johannesburg ,  south africa .  dear sir / madam  we want to transfer to overseas the\n",
      "SPAM: Subject: limited access to sensitive paypal account features  as part of our security measures , we regularly  screen activity in thepaypal system . w\n",
      "SPAM: Subject: naturally irresistible your corporate identity  lt is really hard to recollect a company : the  market is full of suqgestions and the informa\n"
     ]
    },
    {
     "name": "stdout",
     "output_type": "stream",
     "text": [
      "SPAM: Subject: all graphics software available , cheap oem versions .  good morning ,  we we offer latest oem packages of all graphics and publishinq softwa\n",
      "SPAM: Subject: 75 % reduction in road accidents  august , 2002  dear sir / madam ,  in case you have received this mail earlier , kindly ignore this mail . \n",
      "SPAM: Subject: minimize your phone expenses  unlimited web conferencing  subscribe to the web conference center for only $ 40 . 00 per month !  ( connects u\n",
      "SPAM: Subject: localized software , all languages available .  hello , we would like to offer localized software versions ( german , french , spanish , uk ,\n",
      "SPAM: Subject: life - time upgrades for freeq 4 ili 6 p 8  below is the result of your feedback form . it was submitted by  ( blowdamovie @ atlas . cz ) on \n",
      "SPAM: Subject: sell advertising space on your website  did you know that selling advertising on your website is a great way to earn extra revenues with  abs\n",
      "SPAM: Subject: kit torre empilhadeira savi  santos , junho de 2 . 005  sua empresa possui empilhadeira hyster de 07 ton .  e  10 ton . .  ent?o preste aten?\n",
      "SPAM: Subject: we dare you to find a better annuity  call today for more information !  - or -  please fill out the form below for more information  name : \n",
      "SPAM: Subject: we know our sto - cks  pop 3 media corp ( popt )  a company which has positioned itseif in the gap between the major  media congiomerates and\n",
      "SPAM: Subject: no further access to your account will be allowed  dear lasalle bank customer ,  this email is to inform you , that we  had to block your las\n",
      "SPAM: Subject: look what sandy is doing in her dorm ! !  this week : sydney bares all in the park !  join her in our live teen chat !  watch as sandy strips\n",
      "SPAM: Subject: new stock : shooting stars stock report  a drib is admix vishnu but elegiac what newspaper ,  eagle not acrimony .  when percy conceive , eje\n",
      "SPAM: Subject: free ltci policy comparison software  long term care insurance worksite marketing system  take advantage of the most current information avai\n",
      "SPAM: Subject: enhance your anatomy  i ' ve been using your product for 4 months now . i ' ve increased my  length from 2  to nearly 6 . your product has sa\n",
      "SPAM: Subject: penis enlargement announcement  the penis patch is amazing  http : / / www . okmpoi . com / ss /  people with courage and character always se\n",
      "SPAM: Subject: julies cam info  hi . . . .  my name is julie . i am a high school senior in houston , tx .  i ' ve made a new personal site with a webcam be\n",
      "SPAM: Subject: i want to mentor you  this week i showed 62 people how to get over  30 sign / ups each week .  how much would that be worth to you ?  let me \n",
      "SPAM: Subject: send the love home with an online photo album  software for system builders , resellers , and hardware purchasers only .  pride sullies the n\n",
      "SPAM: Subject: award winning notification  netherlands national promotion .  dayzers prime lottery  venlo the netherlands .  www . dayzers . nl  ref no : 42\n",
      "SPAM: Subject: localized software , all languages available .  hello , we would like to offer localized software versions ( german , french , spanish , uk ,\n",
      "SPAM: Subject: perfect logo charset = koi 8 - r \" >  thinking of breathing new life into your business ?  start from revamping its front - end - logo and vi\n",
      "SPAM: Subject: localized software , all languages available .  hello , we would like to offer localized software versions ( qerman , french , spanish , uk ,\n",
      "SPAM: Subject: fast ship viagra , phentermine , etc . . . riym  we ship worldwide within 24 hours !  no waiting rooms , drug stores , or embarrassing conver\n",
      "SPAM: Subject: reading to children has proven to increase their vocabulary obum  * this message was transferred with a trial version of communigate ( tm ) p\n",
      "SPAM: Subject: over 80 % savings on all best - selling xp titles  opt - in email special offer unsubscribe me search software top 10 new titles on sale now \n",
      "SPAM: Subject: failure notice  hi . this is the qmail - send program at backup - smtp - 2 . star . net . uk .  i ' m afraid i wasn ' t able to deliver your \n",
      "SPAM: Subject: congrats on your approval  we tried to contact you last week about refinancing your home at a lower rate .  i would like to inform you know t\n",
      "SPAM: Subject: she is shocked  hello , welcome to meteor medzonline shop  we are pleased to introduce ourselves as one of the ieading online pharmaceutic ga\n",
      "SPAM: Subject: security alert - confirm your national credit union information  - - > \n",
      "SPAM: Subject: 70 percent off your life insurance get a free quote instantly .  question :  are you paying too much for life insurance ?  most  likely the a\n",
      "SPAM: Subject: i do not have anything against you  ourref : cbn / go / 0 xol 2 / 05  date : 21 st july 2005  tel : 234 - 1 - 470 - 7915  email address : mal\n",
      "SPAM: Subject: las vegas high rise boom  las vegas is fast becoming a major metropolitan city ! 60 +  new high rise towers are expected to be built on and a\n",
      "SPAM: Subject: are you ready to get it ?  hello !  viagra is the # 1 med to struggle with mens ' erectile dysfunction .  like one jokes sais , it is stronq \n",
      "SPAM: Subject: delivery status notification  - these recipients of your message have been processed by the mail server :  orlandi . enrico @ inwind . it ; f\n",
      "SPAM: Subject: mail server  dear projecthoneypot @ projecthoneypot . org :  we offer bullet proof dedicated server :  fresh ips  1024 mb ram ddr  p 4 3 . 2 \n",
      "SPAM: Subject: re : [ 9 ]  this has been our final attempt  we have aimed to contact you on quite a few instances and the time to return your reponse is now\n",
      "SPAM: Subject: no # 1 drug for male impotence  buy cheap prescriptions online  http : / / fre . ix 3 tmjitfsi 8 ml 0 . cisekldej . com  ambition is a dream \n",
      "SPAM: Subject: is this sto - ck ready to blaze higher ?  structure & technology report  may 10 th , 2005 - - for immediate release  investors and traders : \n",
      "SPAM: Subject: get debts off your back - time : 5 : 38 : 50 am  are creditors hassling you about your debts ?  we are a non - profit organization that can h\n",
      "SPAM: Subject: perfect logo charset = koi 8 - r \" >  thinking of breathing new life into your business ?  start from revamping its front - end - logo and vi\n",
      "SPAM: Subject: teach and grow rich  do you want to teach and grow rich ?  if you are a motivated and qualified communicator , i will personally train you to\n",
      "SPAM: Subject: blue horseshoe meet me  dear reader :  we sometimes approach our analysts for their thoughts on emerging market sectors we ' re interested in\n",
      "SPAM: Subject: re :  good day ,  a well wisher showed me a way to get p . p . v . on tv while not pay anything !  i know its hard to believe , but , i mean \n",
      "SPAM: Subject: understanding oem software  send the love home with an online photo album  absence sharpens love , presence strengthens it .  painting is jus\n",
      "SPAM: Subject: you want to submit your website to search engines but do not know how to do it ?  submitting your website in search engines may increase  you\n",
      "SPAM: Subject: thanksgiving sale  we want to thank you for your past business and  wish you and yours a very happy thanksgiving holiday this year . as you  \n",
      "SPAM: Subject: professional logo for you now  working on your company ' s image ? start with a  visual identity a key to the first good impression . we are \n",
      "SPAM: Subject: returned mail : see transcript for details  the original message was received at tue , 19 jul 2005 07 : 01 : 27 - 0400  from [ 219 . 157 . 11\n",
      "SPAM: Subject: prop 0 sal  dear siobhan _ riskin  our company will place any business with a qualified website permanently at the top of the major search en\n",
      "SPAM: Subject: you have successfully added a new email address  update your account  dear valued customer  we regret to inform you that your account at  eba\n",
      "SPAM: Subject: perfect logo charset = koi 8 - r \" >  thinking of breathing new life into your business ?  start from revamping its front - end - logo and vi\n",
      "SPAM: Subject: nymex invitation - learn power trading  power trading  fundamentals :  sept 15 - 16 nymex in nyc  early bird discount now in effect !  nymex \n",
      "SPAM: Subject: returned mail : see transcript for details  the original message was received at tue , 19 jul 2005 10 : 58 : 37 gmt  from [ 211 . 245 . 27 . \n",
      "SPAM: Subject: all graphics software available , cheap oem versions .  good morning ,  we we offer latest oem packages of all graphics and publishinq softwa\n",
      "SPAM: Subject: the best place to buy viagra online at the best viagra price .  feeling better is just a click away .  the multitude of books is making us ig\n",
      "SPAM: Subject: have you ever bought drugs online ?  regain your confidence viagra online  the loftier the building , the deeper must the foundation be laid \n",
      "SPAM: Subject: work at home and make money  would you like to get rich working part - time from home ? do you want to get extra income ?  we are looking for\n",
      "SPAM: Subject: when we say free , we mean free !  total turnkey system !  high quality leads fromproven mail houses !  attractive invitations with a 2 - 3 %\n",
      "SPAM: Subject: for your information  this will be our closing notification  we have made an effort to write to you on many occasions and this will be our la\n",
      "SPAM: Subject: onseek . com - site submission incomplete .  the following url was submitted to onseek . com :  http : / / www . datapest . net  in order for\n",
      "SPAM: Subject: re : ink prices got you down ? 11956  would you like to  save up to 80 %  on printer , fax  copier supplies ?  on  brands like -  epson  cano\n",
      "SPAM: Subject: join some of the most successful people in the world  pursue your goals in life  in business for yourself but not by yourself .  work when an\n",
      "SPAM: Subject: re : education opportunity we spoke about gf  .  u n i v e r s i t y . d i p l o m a s .  do  you want for a prosperous future , increased mo\n",
      "SPAM: Subject: first - level designers available for you  corporate image can say a lot of things about your  company . contemporary rhythm of life is too d\n",
      "SPAM: Subject: domain names now only $ 14 . 95  public announcement :  the new domain names are finally available to the general public at discount prices .\n",
      "SPAM: Subject: make a fortune on ebay 24772  ebay - # 1 rated work at home business  opportunity  - pc magazine  fortunes are literally being made in  this \n",
      "\n",
      "Number of Spam Emails: 399\n"
     ]
    }
   ],
   "source": [
    "# Select Range from Dataset\n",
    "select_data = train_set.select(range(150))\n",
    "\n",
    "# Print text from dataset range\n",
    "print(\"First 150 emails: \\n\")\n",
    "for entry in select_data:\n",
    "    # Limit to first 150 characters of text\n",
    "    text = entry[\"text\"][:150]\n",
    "    label = entry[\"label\"]\n",
    "    print(f\"Text: {text}, Label: {label}\")\n",
    "\n",
    "print(\"\\n--------------------------------------------------\\n\")\n",
    "\n",
    "# View Spam Emails\n",
    "count = 0\n",
    "print(\"All spam emails: \\n\")\n",
    "for spam in train_set:\n",
    "    text = spam[\"text\"][:150]\n",
    "    label = spam[\"label\"]\n",
    "    if label == 1:\n",
    "        print(f'SPAM: {text}')\n",
    "        count += 1\n",
    "print(f\"\\nNumber of Spam Emails: {count}\")"
   ]
  },
  {
   "cell_type": "code",
   "execution_count": 6,
   "metadata": {
    "colab": {
     "base_uri": "https://localhost:8080/",
     "height": 530
    },
    "id": "4mO4Tvp_TTJo",
    "outputId": "f965c870-4a20-42cb-8c99-8fd2230bfeb6"
   },
   "outputs": [
    {
     "data": {
      "application/vnd.jupyter.widget-view+json": {
       "model_id": "4159400e373b4b87aa1c2ac72796f7fd",
       "version_major": 2,
       "version_minor": 0
      },
      "text/plain": [
       "Downloading builder script:   0%|          | 0.00/4.20k [00:00<?, ?B/s]"
      ]
     },
     "metadata": {},
     "output_type": "display_data"
    },
    {
     "name": "stdout",
     "output_type": "stream",
     "text": [
      "Ready to Configure Training\n"
     ]
    }
   ],
   "source": [
    "from transformers import TrainingArguments, Trainer, DataCollatorWithPadding\n",
    "import evaluate\n",
    "import torch\n",
    "import numpy as np\n",
    "\n",
    "## RUBRIC ITEM: Evaluate the model\n",
    "# Evaluate the model\n",
    "eval_model= evaluate.load(\"accuracy\")\n",
    "\n",
    "# Compute accuracy of model\n",
    "# Attribution: https://huggingface.co/docs/transformers/main_classes/trainer\n",
    "def compute_metrics(eval_pred):\n",
    "    predictions, labels = eval_pred\n",
    "    predictions = np.argmax(predictions, axis=1)\n",
    "    return {\"accuracy\": (predictions == labels).mean()}\n",
    "\n",
    "# Configure Base Model Trainer\n",
    "# Attribution: https://huggingface.co/docs/peft/en/quicktour\n",
    "# Attribution: https://towardsdatascience.com/https-medium-com-dashingaditya-rakhecha-understanding-learning-rate-dd5da26bb6de\n",
    "trainer_model = TrainingArguments(\n",
    "    # Create job_results_peft directory\n",
    "    # Output training data to created directory\n",
    "    output_dir=\"./data/results\",\n",
    "    # Overwrite saved data each time code runs\n",
    "    overwrite_output_dir=True,\n",
    "    # Decrease learning rate to allow gradual fine-tuning\n",
    "    # Increase liklihood of accurate predictions\n",
    "    learning_rate=2e-3,\n",
    "    # Increase batch size to provide more accurate prediction\n",
    "    per_device_train_batch_size=8,\n",
    "    per_device_eval_batch_size=8,\n",
    "    # Run a training loop w/ each epoch\n",
    "    evaluation_strategy=\"epoch\",\n",
    "    # Save the trained model at each epoch\n",
    "    save_strategy=\"epoch\",\n",
    "    num_train_epochs=2,\n",
    "    weight_decay=0.01,\n",
    ")\n",
    "\n",
    "# Configure PEFT Model Trainer\n",
    "peft_trainer_model = TrainingArguments(\n",
    "    # Create job_results_peft directory\n",
    "    # Output training data to created directory\n",
    "    output_dir=\"./data/results_peft\",\n",
    "    # Overwrite saved data each time code runs\n",
    "    overwrite_output_dir=True,\n",
    "    # Decrease learning rate to allow gradual fine-tuning\n",
    "    # Increase liklihood of accurate predictions\n",
    "    learning_rate=2e-6,\n",
    "    # Increase batch size to provide more accurate prediction\n",
    "    per_device_train_batch_size=12,\n",
    "    per_device_eval_batch_size=12,\n",
    "    # Run a training loop w/ each epoch\n",
    "    evaluation_strategy=\"epoch\",\n",
    "    # Save the trained model at each epoch\n",
    "    save_strategy=\"epoch\",\n",
    "    # Increase epochs to allow more iterations for training\n",
    "    num_train_epochs=3,\n",
    "    weight_decay=0.01,\n",
    ")\n",
    "\n",
    "\n",
    "# Alert when done\n",
    "print(\"Ready to Configure Training\")"
   ]
  },
  {
   "cell_type": "code",
   "execution_count": 8,
   "metadata": {},
   "outputs": [
    {
     "name": "stdout",
     "output_type": "stream",
     "text": [
      "Ready to Start Training\n"
     ]
    }
   ],
   "source": [
    "# Configure Base Model Trainer\n",
    "# Attribution: https://huggingface.co/docs/peft/en/quicktour\n",
    "def trainer(model):\n",
    "    return Trainer(\n",
    "    model=model,\n",
    "    args = trainer_model,\n",
    "    train_dataset=tokenized_train,\n",
    "    eval_dataset=tokenized_test,\n",
    "    tokenizer=tokenizer,\n",
    "    data_collator=DataCollatorWithPadding(tokenizer=tokenizer),\n",
    "    compute_metrics=compute_metrics,\n",
    ")\n",
    "\n",
    "# Attribution: https://medium.com/@achillesmoraites/lightweight-roberta-sequence-classification-fine-tuning-with-lora-using-the-hugging-face-peft-8dd9edf99d19\n",
    "# Configure PEFT Model Trainer\n",
    "def peft_trainer(model):\n",
    "    return Trainer(\n",
    "    model=model,\n",
    "    args = peft_trainer_model,\n",
    "    train_dataset=tokenized_train,\n",
    "    eval_dataset=tokenized_test,\n",
    "    tokenizer=tokenizer,\n",
    "    data_collator=DataCollatorWithPadding(tokenizer=tokenizer),\n",
    "    compute_metrics=compute_metrics,\n",
    ")\n",
    "\n",
    "# Alert when done\n",
    "print(\"Ready to Start Training\")"
   ]
  },
  {
   "cell_type": "code",
   "execution_count": 9,
   "metadata": {},
   "outputs": [
    {
     "name": "stderr",
     "output_type": "stream",
     "text": [
      "Some weights of DistilBertForSequenceClassification were not initialized from the model checkpoint at distilbert-base-uncased and are newly initialized: ['pre_classifier.weight', 'classifier.weight', 'pre_classifier.bias', 'classifier.bias']\n",
      "You should probably TRAIN this model on a down-stream task to be able to use it for predictions and inference.\n",
      "/home/student/.local/lib/python3.10/site-packages/accelerate/accelerator.py:447: FutureWarning: Passing the following arguments to `Accelerator` is deprecated and will be removed in version 1.0 of Accelerate: dict_keys(['dispatch_batches', 'split_batches']). Please pass an `accelerate.DataLoaderConfiguration` instead: \n",
      "dataloader_config = DataLoaderConfiguration(dispatch_batches=None, split_batches=False)\n",
      "  warnings.warn(\n",
      "You're using a DistilBertTokenizerFast tokenizer. Please note that with a fast tokenizer, using the `__call__` method is faster than using a method to encode the text followed by a call to the `pad` method to get a padded encoding.\n"
     ]
    },
    {
     "name": "stdout",
     "output_type": "stream",
     "text": [
      "\n",
      "Ready to train baseline model!\n"
     ]
    },
    {
     "data": {
      "text/html": [
       "\n",
       "    <div>\n",
       "      \n",
       "      <progress value='430' max='430' style='width:300px; height:20px; vertical-align: middle;'></progress>\n",
       "      [430/430 03:07, Epoch 2/2]\n",
       "    </div>\n",
       "    <table border=\"1\" class=\"dataframe\">\n",
       "  <thead>\n",
       " <tr style=\"text-align: left;\">\n",
       "      <th>Epoch</th>\n",
       "      <th>Training Loss</th>\n",
       "      <th>Validation Loss</th>\n",
       "      <th>Accuracy</th>\n",
       "    </tr>\n",
       "  </thead>\n",
       "  <tbody>\n",
       "    <tr>\n",
       "      <td>1</td>\n",
       "      <td>No log</td>\n",
       "      <td>0.573667</td>\n",
       "      <td>0.741710</td>\n",
       "    </tr>\n",
       "    <tr>\n",
       "      <td>2</td>\n",
       "      <td>No log</td>\n",
       "      <td>0.578633</td>\n",
       "      <td>0.741710</td>\n",
       "    </tr>\n",
       "  </tbody>\n",
       "</table><p>"
      ],
      "text/plain": [
       "<IPython.core.display.HTML object>"
      ]
     },
     "metadata": {},
     "output_type": "display_data"
    },
    {
     "data": {
      "text/html": [
       "\n",
       "    <div>\n",
       "      \n",
       "      <progress value='72' max='72' style='width:300px; height:20px; vertical-align: middle;'></progress>\n",
       "      [72/72 00:09]\n",
       "    </div>\n",
       "    "
      ],
      "text/plain": [
       "<IPython.core.display.HTML object>"
      ]
     },
     "metadata": {},
     "output_type": "display_data"
    }
   ],
   "source": [
    "baseline_training = trainer(\n",
    "    AutoModelForSequenceClassification.from_pretrained(model_name)\n",
    ")\n",
    "\n",
    "# Alert when done\n",
    "print(\"\\nReady to train baseline model!\")\n",
    "\n",
    "baseline_training.train()\n",
    "\n",
    "# Evaluate Full Fine Tuned Model\n",
    "baseline_training_eval = baseline_training.evaluate()"
   ]
  },
  {
   "cell_type": "markdown",
   "metadata": {
    "id": "uhElLFYETkHY"
   },
   "source": [
    "## Performing Parameter-Efficient Fine-Tuning\n",
    "\n",
    "TODO: In the cells below, create a PEFT model from your loaded model, run a training loop, and save the PEFT model weights.\n"
   ]
  },
  {
   "cell_type": "code",
   "execution_count": 10,
   "metadata": {},
   "outputs": [
    {
     "name": "stderr",
     "output_type": "stream",
     "text": [
      "Some weights of DistilBertForSequenceClassification were not initialized from the model checkpoint at distilbert-base-uncased and are newly initialized: ['pre_classifier.weight', 'classifier.weight', 'pre_classifier.bias', 'classifier.bias']\n",
      "You should probably TRAIN this model on a down-stream task to be able to use it for predictions and inference.\n"
     ]
    },
    {
     "name": "stdout",
     "output_type": "stream",
     "text": [
      "trainable params: 1,257,988 || all params: 67,620,868 || trainable%: 1.8603547058875376\n",
      "\n",
      "Ready to train PEFT model!\n"
     ]
    },
    {
     "name": "stderr",
     "output_type": "stream",
     "text": [
      "/home/student/.local/lib/python3.10/site-packages/accelerate/accelerator.py:447: FutureWarning: Passing the following arguments to `Accelerator` is deprecated and will be removed in version 1.0 of Accelerate: dict_keys(['dispatch_batches', 'split_batches']). Please pass an `accelerate.DataLoaderConfiguration` instead: \n",
      "dataloader_config = DataLoaderConfiguration(dispatch_batches=None, split_batches=False)\n",
      "  warnings.warn(\n"
     ]
    },
    {
     "data": {
      "text/html": [
       "\n",
       "    <div>\n",
       "      \n",
       "      <progress value='432' max='432' style='width:300px; height:20px; vertical-align: middle;'></progress>\n",
       "      [432/432 03:45, Epoch 3/3]\n",
       "    </div>\n",
       "    <table border=\"1\" class=\"dataframe\">\n",
       "  <thead>\n",
       " <tr style=\"text-align: left;\">\n",
       "      <th>Epoch</th>\n",
       "      <th>Training Loss</th>\n",
       "      <th>Validation Loss</th>\n",
       "      <th>Accuracy</th>\n",
       "    </tr>\n",
       "  </thead>\n",
       "  <tbody>\n",
       "    <tr>\n",
       "      <td>1</td>\n",
       "      <td>No log</td>\n",
       "      <td>0.607410</td>\n",
       "      <td>0.741710</td>\n",
       "    </tr>\n",
       "    <tr>\n",
       "      <td>2</td>\n",
       "      <td>No log</td>\n",
       "      <td>0.583799</td>\n",
       "      <td>0.741710</td>\n",
       "    </tr>\n",
       "    <tr>\n",
       "      <td>3</td>\n",
       "      <td>No log</td>\n",
       "      <td>0.577517</td>\n",
       "      <td>0.741710</td>\n",
       "    </tr>\n",
       "  </tbody>\n",
       "</table><p>"
      ],
      "text/plain": [
       "<IPython.core.display.HTML object>"
      ]
     },
     "metadata": {},
     "output_type": "display_data"
    },
    {
     "data": {
      "text/html": [
       "\n",
       "    <div>\n",
       "      \n",
       "      <progress value='48' max='48' style='width:300px; height:20px; vertical-align: middle;'></progress>\n",
       "      [48/48 00:10]\n",
       "    </div>\n",
       "    "
      ],
      "text/plain": [
       "<IPython.core.display.HTML object>"
      ]
     },
     "metadata": {},
     "output_type": "display_data"
    }
   ],
   "source": [
    "## RUBRIC ITEM: Create PEFT Model\n",
    "from peft import LoraConfig, PeftModel, PeftConfig, get_peft_model\n",
    "\n",
    "model = AutoModelForSequenceClassification.from_pretrained(model_name)\n",
    "\n",
    "# Attribution: https://towardsdatascience.com/fine-tuning-large-language-models-llms-23473d763b91\n",
    "# Attribution: https://medium.com/@achillesmoraites/lightweight-roberta-sequence-classification-fine-tuning-with-lora-using-the-hugging-face-peft-8dd9edf99d19\n",
    "config = LoraConfig(task_type=\"SEQ_CLS\", inference_mode=False, r=8, lora_alpha=16, lora_dropout=0.1, target_modules=['q_lin'])\n",
    "\n",
    "# Attribution: Udacity \"Apply Lightweight Fine-Tuning\"\n",
    "lora_model = get_peft_model(model, config)\n",
    "\n",
    "# Display Trainable Parameters\n",
    "lora_model.print_trainable_parameters()\n",
    "\n",
    "# Alert when done\n",
    "print(\"\\nReady to train PEFT model!\")\n",
    "\n",
    "peft_training = peft_trainer(lora_model)\n",
    "\n",
    "## RUBRIC ITEM: Train the PEFT Model\n",
    "peft_training.train()\n",
    "\n",
    "## RUBRIC ITEM: Evaluate the PEFT Model\n",
    "peft_eval = peft_training.evaluate()"
   ]
  },
  {
   "cell_type": "code",
   "execution_count": 26,
   "metadata": {},
   "outputs": [],
   "source": [
    "## RUBRIC ITEM: Save PEFT Model\n",
    "lora_model.save_pretrained(\"./data/results_peft\")"
   ]
  },
  {
   "cell_type": "markdown",
   "metadata": {
    "id": "E-oaNT3HTvUG"
   },
   "source": [
    "## Performing Inference with a PEFT Model\n",
    "\n",
    "TODO: In the cells below, load the saved PEFT model weights and evaluate the performance of the trained PEFT model. Be sure to compare the results to the results from prior to fine-tuning.\n"
   ]
  },
  {
   "cell_type": "code",
   "execution_count": 31,
   "metadata": {},
   "outputs": [
    {
     "name": "stderr",
     "output_type": "stream",
     "text": [
      "Some weights of DistilBertForSequenceClassification were not initialized from the model checkpoint at distilbert-base-uncased and are newly initialized: ['pre_classifier.weight', 'classifier.weight', 'pre_classifier.bias', 'classifier.bias']\n",
      "You should probably TRAIN this model on a down-stream task to be able to use it for predictions and inference.\n"
     ]
    }
   ],
   "source": [
    "## RUBRIC ITEM: Load PEFT Model\n",
    "from peft import AutoPeftModelForSequenceClassification\n",
    "\n",
    "lora_model = AutoPeftModelForSequenceClassification.from_pretrained(\"./data/results_peft\")\n"
   ]
  },
  {
   "cell_type": "code",
   "execution_count": 24,
   "metadata": {
    "id": "qvxeazt7Twn6"
   },
   "outputs": [
    {
     "name": "stdout",
     "output_type": "stream",
     "text": [
      "\n",
      "PEFT Accuracy: 74.17%\n",
      "\n",
      "Eval Details: \n",
      "\n",
      "{'eval_loss': 0.5775173902511597, 'eval_accuracy': 0.7417102966841187, 'eval_runtime': 10.6141, 'eval_samples_per_second': 53.985, 'eval_steps_per_second': 4.522, 'epoch': 3.0}\n",
      "\n",
      "Base Model Accuracy: 74.17%\n",
      "\n",
      "Eval Details: \n",
      "\n",
      "{'eval_loss': 0.5786334276199341, 'eval_accuracy': 0.7417102966841187, 'eval_runtime': 9.2955, 'eval_samples_per_second': 61.643, 'eval_steps_per_second': 7.746, 'epoch': 2.0}\n"
     ]
    }
   ],
   "source": [
    "# Calculate and print PEFT Accuracy\n",
    "peft_accuracy = peft_eval['eval_accuracy'] * 100\n",
    "print(\"\\nPEFT Accuracy: {:.2f}%\\n\".format(peft_accuracy))\n",
    "\n",
    "# Print PEFT Evaluation Details\n",
    "print(\"Eval Details: \\n\")\n",
    "print(peft_eval)\n",
    "\n",
    "# Calculate and print Base Model Accuracy\n",
    "base_model_accuracy = baseline_training_eval['eval_accuracy'] * 100\n",
    "print(\"\\nBase Model Accuracy: {:.2f}%\\n\".format(base_model_accuracy))\n",
    "\n",
    "# Print Base Model Evaluation Details\n",
    "print(\"Eval Details: \\n\")\n",
    "print(baseline_training_eval)\n"
   ]
  },
  {
   "cell_type": "code",
   "execution_count": 15,
   "metadata": {},
   "outputs": [
    {
     "name": "stdout",
     "output_type": "stream",
     "text": [
      "Parameter Efficient Fine Tuning with LoRA kept the same accuracy, but with a 2.99% decrease in validation loss, using only 1.86% of the parameters!\n",
      "\n",
      "Now that's efficient!\n"
     ]
    }
   ],
   "source": [
    "validation_loss = (0.607410 - 0.577517) * 100\n",
    "\n",
    "print('Parameter Efficient Fine Tuning with LoRA kept the same accuracy, \\\n",
    "but with a {:.2f}% decrease in validation loss, using only 1.86% of the parameters!'.format(validation_loss))\n",
    "\n",
    "print('\\nNow that\\'s efficient!')"
   ]
  },
  {
   "cell_type": "code",
   "execution_count": null,
   "metadata": {},
   "outputs": [],
   "source": []
  }
 ],
 "metadata": {
  "colab": {
   "provenance": []
  },
  "kernelspec": {
   "display_name": "Python 3 (ipykernel)",
   "language": "python",
   "name": "python3"
  },
  "language_info": {
   "codemirror_mode": {
    "name": "ipython",
    "version": 3
   },
   "file_extension": ".py",
   "mimetype": "text/x-python",
   "name": "python",
   "nbconvert_exporter": "python",
   "pygments_lexer": "ipython3",
   "version": "3.10.11"
  }
 },
 "nbformat": 4,
 "nbformat_minor": 1
}
